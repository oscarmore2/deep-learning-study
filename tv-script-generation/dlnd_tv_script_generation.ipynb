{
 "cells": [
  {
   "cell_type": "markdown",
   "metadata": {
    "deletable": true,
    "editable": true
   },
   "source": [
    "# TV Script Generation\n",
    "In this project, you'll generate your own [Simpsons](https://en.wikipedia.org/wiki/The_Simpsons) TV scripts using RNNs.  You'll be using part of the [Simpsons dataset](https://www.kaggle.com/wcukierski/the-simpsons-by-the-data) of scripts from 27 seasons.  The Neural Network you'll build will generate a new TV script for a scene at [Moe's Tavern](https://simpsonswiki.com/wiki/Moe's_Tavern).\n",
    "## Get the Data\n",
    "The data is already provided for you.  You'll be using a subset of the original dataset.  It consists of only the scenes in Moe's Tavern.  This doesn't include other versions of the tavern, like \"Moe's Cavern\", \"Flaming Moe's\", \"Uncle Moe's Family Feed-Bag\", etc.."
   ]
  },
  {
   "cell_type": "code",
   "execution_count": 210,
   "metadata": {
    "collapsed": false,
    "deletable": true,
    "editable": true
   },
   "outputs": [],
   "source": [
    "\"\"\"\n",
    "DON'T MODIFY ANYTHING IN THIS CELL\n",
    "\"\"\"\n",
    "import helper\n",
    "\n",
    "data_dir = './data/simpsons/moes_tavern_lines.txt'\n",
    "text = helper.load_data(data_dir)\n",
    "# Ignore notice, since we don't use it for analysing the data\n",
    "text = text[81:]"
   ]
  },
  {
   "cell_type": "markdown",
   "metadata": {
    "deletable": true,
    "editable": true
   },
   "source": [
    "## Explore the Data\n",
    "Play around with `view_sentence_range` to view different parts of the data."
   ]
  },
  {
   "cell_type": "code",
   "execution_count": 211,
   "metadata": {
    "collapsed": false,
    "deletable": true,
    "editable": true
   },
   "outputs": [
    {
     "name": "stdout",
     "output_type": "stream",
     "text": [
      "Dataset Stats\n",
      "Roughly the number of unique words: 11492\n",
      "Number of scenes: 262\n",
      "Average number of sentences in each scene: 15.248091603053435\n",
      "Number of lines: 4257\n",
      "Average number of words in each line: 11.50434578341555\n",
      "\n",
      "The sentences 0 to 10:\n",
      "Moe_Szyslak: (INTO PHONE) Moe's Tavern. Where the elite meet to drink.\n",
      "Bart_Simpson: Eh, yeah, hello, is Mike there? Last name, Rotch.\n",
      "Moe_Szyslak: (INTO PHONE) Hold on, I'll check. (TO BARFLIES) Mike Rotch. Mike Rotch. Hey, has anybody seen Mike Rotch, lately?\n",
      "Moe_Szyslak: (INTO PHONE) Listen you little puke. One of these days I'm gonna catch you, and I'm gonna carve my name on your back with an ice pick.\n",
      "Moe_Szyslak: What's the matter Homer? You're not your normal effervescent self.\n",
      "Homer_Simpson: I got my problems, Moe. Give me another one.\n",
      "Moe_Szyslak: Homer, hey, you should not drink to forget your problems.\n",
      "Barney_Gumble: Yeah, you should only drink to enhance your social skills.\n",
      "\n",
      "\n"
     ]
    }
   ],
   "source": [
    "view_sentence_range = (0, 10)\n",
    "\n",
    "\"\"\"\n",
    "DON'T MODIFY ANYTHING IN THIS CELL\n",
    "\"\"\"\n",
    "import numpy as np\n",
    "\n",
    "print('Dataset Stats')\n",
    "print('Roughly the number of unique words: {}'.format(len({word: None for word in text.split()})))\n",
    "scenes = text.split('\\n\\n')\n",
    "print('Number of scenes: {}'.format(len(scenes)))\n",
    "sentence_count_scene = [scene.count('\\n') for scene in scenes]\n",
    "print('Average number of sentences in each scene: {}'.format(np.average(sentence_count_scene)))\n",
    "\n",
    "sentences = [sentence for scene in scenes for sentence in scene.split('\\n')]\n",
    "print('Number of lines: {}'.format(len(sentences)))\n",
    "word_count_sentence = [len(sentence.split()) for sentence in sentences]\n",
    "print('Average number of words in each line: {}'.format(np.average(word_count_sentence)))\n",
    "\n",
    "print()\n",
    "print('The sentences {} to {}:'.format(*view_sentence_range))\n",
    "print('\\n'.join(text.split('\\n')[view_sentence_range[0]:view_sentence_range[1]]))"
   ]
  },
  {
   "cell_type": "markdown",
   "metadata": {
    "deletable": true,
    "editable": true
   },
   "source": [
    "## Implement Preprocessing Functions\n",
    "The first thing to do to any dataset is preprocessing.  Implement the following preprocessing functions below:\n",
    "- Lookup Table\n",
    "- Tokenize Punctuation\n",
    "\n",
    "### Lookup Table\n",
    "To create a word embedding, you first need to transform the words to ids.  In this function, create two dictionaries:\n",
    "- Dictionary to go from the words to an id, we'll call `vocab_to_int`\n",
    "- Dictionary to go from the id to word, we'll call `int_to_vocab`\n",
    "\n",
    "Return these dictionaries in the following tuple `(vocab_to_int, int_to_vocab)`"
   ]
  },
  {
   "cell_type": "code",
   "execution_count": 212,
   "metadata": {
    "collapsed": false,
    "deletable": true,
    "editable": true
   },
   "outputs": [
    {
     "name": "stdout",
     "output_type": "stream",
     "text": [
      "['moe_szyslak', \"moe's\", 'tavern', 'where', 'the', 'elite', 'meet', 'to', 'drink', 'bart_simpson']\n",
      "Tests Passed\n"
     ]
    }
   ],
   "source": [
    "import numpy as np\n",
    "import problem_unittests as tests\n",
    "\n",
    "def create_lookup_tables(text):\n",
    "    \"\"\"\n",
    "    Create lookup tables for vocabulary\n",
    "    :param text: The text of tv scripts split into words\n",
    "    :return: A tuple of dicts (vocab_to_int, int_to_vocab)\n",
    "    \"\"\"\n",
    "    # TODO: Implement Function\n",
    "    print(text[:10])\n",
    "    vocab_to_int = {word:count for count, word in enumerate(set(text))}\n",
    "    #print(vocab_to_int[text[0]])\n",
    "    int_to_vocab = {count:word for count, word in enumerate(set(text))}\n",
    "    return vocab_to_int, int_to_vocab\n",
    "\n",
    "\n",
    "\"\"\"\n",
    "DON'T MODIFY ANYTHING IN THIS CELL THAT IS BELOW THIS LINE\n",
    "\"\"\"\n",
    "tests.test_create_lookup_tables(create_lookup_tables)"
   ]
  },
  {
   "cell_type": "markdown",
   "metadata": {
    "deletable": true,
    "editable": true
   },
   "source": [
    "### Tokenize Punctuation\n",
    "We'll be splitting the script into a word array using spaces as delimiters.  However, punctuations like periods and exclamation marks make it hard for the neural network to distinguish between the word \"bye\" and \"bye!\".\n",
    "\n",
    "Implement the function `token_lookup` to return a dict that will be used to tokenize symbols like \"!\" into \"||Exclamation_Mark||\".  Create a dictionary for the following symbols where the symbol is the key and value is the token:\n",
    "- Period ( . )\n",
    "- Comma ( , )\n",
    "- Quotation Mark ( \" )\n",
    "- Semicolon ( ; )\n",
    "- Exclamation mark ( ! )\n",
    "- Question mark ( ? )\n",
    "- Left Parentheses ( ( )\n",
    "- Right Parentheses ( ) )\n",
    "- Dash ( -- )\n",
    "- Return ( \\n )\n",
    "\n",
    "This dictionary will be used to token the symbols and add the delimiter (space) around it.  This separates the symbols as it's own word, making it easier for the neural network to predict on the next word. Make sure you don't use a token that could be confused as a word. Instead of using the token \"dash\", try using something like \"||dash||\"."
   ]
  },
  {
   "cell_type": "code",
   "execution_count": 213,
   "metadata": {
    "collapsed": false,
    "deletable": true,
    "editable": true
   },
   "outputs": [
    {
     "name": "stdout",
     "output_type": "stream",
     "text": [
      "Tests Passed\n"
     ]
    }
   ],
   "source": [
    "def token_lookup():\n",
    "    \"\"\"\n",
    "    Generate a dict to turn punctuation into a token.\n",
    "    :return: Tokenize dictionary where the key is the punctuation and the value is the token\n",
    "    \"\"\"\n",
    "    # TODO: Implement Function\n",
    "    tokens = {'.':'||Period||', ',':'||Comma||', '\"':'||Quotation-Mark||', ';':'||Semicolon||', \n",
    "             '!':'||Exclamation-mark||', '?':'||Question-mark||', '(':'||Left-Parentheses||', ')':'||Right-Parentheses||',\n",
    "             '--':'||Dash||', '\\n':'||Return||'}\n",
    "    return tokens\n",
    "\n",
    "\"\"\"\n",
    "DON'T MODIFY ANYTHING IN THIS CELL THAT IS BELOW THIS LINE\n",
    "\"\"\"\n",
    "tests.test_tokenize(token_lookup)"
   ]
  },
  {
   "cell_type": "markdown",
   "metadata": {
    "deletable": true,
    "editable": true
   },
   "source": [
    "## Preprocess all the data and save it\n",
    "Running the code cell below will preprocess all the data and save it to file."
   ]
  },
  {
   "cell_type": "code",
   "execution_count": 214,
   "metadata": {
    "collapsed": false,
    "deletable": true,
    "editable": true
   },
   "outputs": [
    {
     "name": "stdout",
     "output_type": "stream",
     "text": [
      "['moe_szyslak:', '||left-parentheses||', 'into', 'phone', '||right-parentheses||', \"moe's\", 'tavern', '||period||', 'where', 'the']\n"
     ]
    }
   ],
   "source": [
    "\"\"\"\n",
    "DON'T MODIFY ANYTHING IN THIS CELL\n",
    "\"\"\"\n",
    "# Preprocess Training, Validation, and Testing Data\n",
    "helper.preprocess_and_save_data(data_dir, token_lookup, create_lookup_tables)"
   ]
  },
  {
   "cell_type": "markdown",
   "metadata": {
    "deletable": true,
    "editable": true
   },
   "source": [
    "# Check Point\n",
    "This is your first checkpoint. If you ever decide to come back to this notebook or have to restart the notebook, you can start from here. The preprocessed data has been saved to disk."
   ]
  },
  {
   "cell_type": "code",
   "execution_count": 215,
   "metadata": {
    "collapsed": false,
    "deletable": true,
    "editable": true
   },
   "outputs": [],
   "source": [
    "\"\"\"\n",
    "DON'T MODIFY ANYTHING IN THIS CELL\n",
    "\"\"\"\n",
    "import helper\n",
    "import numpy as np\n",
    "import problem_unittests as tests\n",
    "\n",
    "int_text, vocab_to_int, int_to_vocab, token_dict = helper.load_preprocess()"
   ]
  },
  {
   "cell_type": "markdown",
   "metadata": {
    "deletable": true,
    "editable": true
   },
   "source": [
    "## Build the Neural Network\n",
    "You'll build the components necessary to build a RNN by implementing the following functions below:\n",
    "- get_inputs\n",
    "- get_init_cell\n",
    "- get_embed\n",
    "- build_rnn\n",
    "- build_nn\n",
    "- get_batches\n",
    "\n",
    "### Check the Version of TensorFlow and Access to GPU"
   ]
  },
  {
   "cell_type": "code",
   "execution_count": 216,
   "metadata": {
    "collapsed": false,
    "deletable": true,
    "editable": true
   },
   "outputs": [
    {
     "name": "stdout",
     "output_type": "stream",
     "text": [
      "TensorFlow Version: 1.1.0\n",
      "Default GPU Device: /gpu:0\n"
     ]
    }
   ],
   "source": [
    "\"\"\"\n",
    "DON'T MODIFY ANYTHING IN THIS CELL\n",
    "\"\"\"\n",
    "from distutils.version import LooseVersion\n",
    "import warnings\n",
    "import tensorflow as tf\n",
    "\n",
    "# Check TensorFlow Version\n",
    "assert LooseVersion(tf.__version__) >= LooseVersion('1.0'), 'Please use TensorFlow version 1.0 or newer'\n",
    "print('TensorFlow Version: {}'.format(tf.__version__))\n",
    "\n",
    "# Check for a GPU\n",
    "if not tf.test.gpu_device_name():\n",
    "    warnings.warn('No GPU found. Please use a GPU to train your neural network.')\n",
    "else:\n",
    "    print('Default GPU Device: {}'.format(tf.test.gpu_device_name()))"
   ]
  },
  {
   "cell_type": "markdown",
   "metadata": {
    "deletable": true,
    "editable": true
   },
   "source": [
    "### Input\n",
    "Implement the `get_inputs()` function to create TF Placeholders for the Neural Network.  It should create the following placeholders:\n",
    "- Input text placeholder named \"input\" using the [TF Placeholder](https://www.tensorflow.org/api_docs/python/tf/placeholder) `name` parameter.\n",
    "- Targets placeholder\n",
    "- Learning Rate placeholder\n",
    "\n",
    "Return the placeholders in the following tuple `(Input, Targets, LearningRate)`"
   ]
  },
  {
   "cell_type": "code",
   "execution_count": 217,
   "metadata": {
    "collapsed": false,
    "deletable": true,
    "editable": true
   },
   "outputs": [
    {
     "name": "stdout",
     "output_type": "stream",
     "text": [
      "input:0\n",
      "Tests Passed\n"
     ]
    }
   ],
   "source": [
    "def get_inputs():\n",
    "    \"\"\"\n",
    "    Create TF Placeholders for input, targets, and learning rate.\n",
    "    :return: Tuple (input, targets, learning rate)\n",
    "    \"\"\"\n",
    "    # TODO: Implement Function\n",
    "    inputs = tf.placeholder(tf.int32, [None, None], name=\"input\")\n",
    "    targets = tf.placeholder(tf.int32, [None, None], name=\"targets\")\n",
    "    learning_rate = tf.placeholder(tf.float32, name=\"learningRate\")\n",
    "    print(inputs.name)\n",
    "    return inputs, targets, learning_rate\n",
    "\n",
    "\n",
    "\"\"\"\n",
    "DON'T MODIFY ANYTHING IN THIS CELL THAT IS BELOW THIS LINE\n",
    "\"\"\"\n",
    "tests.test_get_inputs(get_inputs)"
   ]
  },
  {
   "cell_type": "markdown",
   "metadata": {
    "deletable": true,
    "editable": true
   },
   "source": [
    "### Build RNN Cell and Initialize\n",
    "Stack one or more [`BasicLSTMCells`](https://www.tensorflow.org/api_docs/python/tf/contrib/rnn/BasicLSTMCell) in a [`MultiRNNCell`](https://www.tensorflow.org/api_docs/python/tf/contrib/rnn/MultiRNNCell).\n",
    "- The Rnn size should be set using `rnn_size`\n",
    "- Initalize Cell State using the MultiRNNCell's [`zero_state()`](https://www.tensorflow.org/api_docs/python/tf/contrib/rnn/MultiRNNCell#zero_state) function\n",
    "    - Apply the name \"initial_state\" to the initial state using [`tf.identity()`](https://www.tensorflow.org/api_docs/python/tf/identity)\n",
    "\n",
    "Return the cell and initial state in the following tuple `(Cell, InitialState)`"
   ]
  },
  {
   "cell_type": "code",
   "execution_count": 218,
   "metadata": {
    "collapsed": false,
    "deletable": true,
    "editable": true
   },
   "outputs": [
    {
     "name": "stdout",
     "output_type": "stream",
     "text": [
      "Tests Passed\n"
     ]
    }
   ],
   "source": [
    "def get_init_cell(batch_size, rnn_size):\n",
    "    \"\"\"\n",
    "    Create an RNN Cell and initialize it.\n",
    "    :param batch_size: Size of batches\n",
    "    :param rnn_size: Size of RNNs\n",
    "    :return: Tuple (cell, initialize state)\n",
    "    \"\"\"\n",
    "    # TODO: Implement Function\n",
    "    lstm = tf.contrib.rnn.BasicLSTMCell(rnn_size)\n",
    "    cell = tf.contrib.rnn.MultiRNNCell([lstm])\n",
    "    initalState = cell.zero_state(batch_size, tf.float32)\n",
    "    initalState = tf.identity(initalState, name='initial_state')\n",
    "    return cell, initalState\n",
    "\n",
    "\n",
    "\"\"\"\n",
    "DON'T MODIFY ANYTHING IN THIS CELL THAT IS BELOW THIS LINE\n",
    "\"\"\"\n",
    "tests.test_get_init_cell(get_init_cell)"
   ]
  },
  {
   "cell_type": "markdown",
   "metadata": {
    "deletable": true,
    "editable": true
   },
   "source": [
    "### Word Embedding\n",
    "Apply embedding to `input_data` using TensorFlow.  Return the embedded sequence."
   ]
  },
  {
   "cell_type": "code",
   "execution_count": 219,
   "metadata": {
    "collapsed": false,
    "deletable": true,
    "editable": true
   },
   "outputs": [
    {
     "name": "stdout",
     "output_type": "stream",
     "text": [
      "Tests Passed\n"
     ]
    }
   ],
   "source": [
    "def get_embed(input_data, vocab_size, embed_dim):\n",
    "    \"\"\"\n",
    "    Create embedding for <input_data>.\n",
    "    :param input_data: TF placeholder for text input.\n",
    "    :param vocab_size: Number of words in vocabulary.\n",
    "    :param embed_dim: Number of embedding dimensions\n",
    "    :return: Embedded input.\n",
    "    \"\"\"\n",
    "    # TODO: Implement Function\n",
    "    #print(input_data.shape)\n",
    "    #print(vocab_size)\n",
    "    #print(embed_dim)\n",
    "    embed = tf.Variable(tf.random_uniform((vocab_size, embed_dim), -1, 1 ))\n",
    "    embedding = tf.nn.embedding_lookup(embed, input_data)\n",
    "    return embedding\n",
    "\n",
    "\n",
    "\"\"\"\n",
    "DON'T MODIFY ANYTHING IN THIS CELL THAT IS BELOW THIS LINE\n",
    "\"\"\"\n",
    "tests.test_get_embed(get_embed)"
   ]
  },
  {
   "cell_type": "markdown",
   "metadata": {
    "deletable": true,
    "editable": true
   },
   "source": [
    "### Build RNN\n",
    "You created a RNN Cell in the `get_init_cell()` function.  Time to use the cell to create a RNN.\n",
    "- Build the RNN using the [`tf.nn.dynamic_rnn()`](https://www.tensorflow.org/api_docs/python/tf/nn/dynamic_rnn)\n",
    " - Apply the name \"final_state\" to the final state using [`tf.identity()`](https://www.tensorflow.org/api_docs/python/tf/identity)\n",
    "\n",
    "Return the outputs and final_state state in the following tuple `(Outputs, FinalState)` "
   ]
  },
  {
   "cell_type": "code",
   "execution_count": 220,
   "metadata": {
    "collapsed": false,
    "deletable": true,
    "editable": true
   },
   "outputs": [
    {
     "name": "stdout",
     "output_type": "stream",
     "text": [
      "Tests Passed\n"
     ]
    }
   ],
   "source": [
    "def build_rnn(cell, inputs):\n",
    "    \"\"\"\n",
    "    Create a RNN using a RNN Cell\n",
    "    :param cell: RNN Cell\n",
    "    :param inputs: Input text data\n",
    "    :return: Tuple (Outputs, Final State)\n",
    "    \"\"\"\n",
    "    #print(\"inputs shape \"+str(inputs.get_shape()))\n",
    "    output, final_state = tf.nn.dynamic_rnn(cell, inputs, dtype=tf.float32)\n",
    "    # TODO: Implement Function\n",
    "    final_state = tf.identity(final_state, name=\"final_state\")\n",
    "    #print(output.get_shape())\n",
    "    #print(final_state.name)\n",
    "    return output, final_state\n",
    "\n",
    "\n",
    "\"\"\"\n",
    "DON'T MODIFY ANYTHING IN THIS CELL THAT IS BELOW THIS LINE\n",
    "\"\"\"\n",
    "tests.test_build_rnn(build_rnn)"
   ]
  },
  {
   "cell_type": "markdown",
   "metadata": {
    "deletable": true,
    "editable": true
   },
   "source": [
    "### Build the Neural Network\n",
    "Apply the functions you implemented above to:\n",
    "- Apply embedding to `input_data` using your `get_embed(input_data, vocab_size, embed_dim)` function.\n",
    "- Build RNN using `cell` and your `build_rnn(cell, inputs)` function.\n",
    "- Apply a fully connected layer with a linear activation and `vocab_size` as the number of outputs.\n",
    "\n",
    "Return the logits and final state in the following tuple (Logits, FinalState) "
   ]
  },
  {
   "cell_type": "code",
   "execution_count": 221,
   "metadata": {
    "collapsed": false,
    "deletable": true,
    "editable": true
   },
   "outputs": [
    {
     "name": "stdout",
     "output_type": "stream",
     "text": [
      "Tests Passed\n"
     ]
    }
   ],
   "source": [
    "def build_nn(cell, rnn_size, input_data, vocab_size, embed_dim):\n",
    "    \"\"\"\n",
    "    Build part of the neural network\n",
    "    :param cell: RNN cell\n",
    "    :param rnn_size: Size of rnns\n",
    "    :param input_data: Input data\n",
    "    :param vocab_size: Vocabulary size\n",
    "    :param embed_dim: Number of embedding dimensions\n",
    "    :return: Tuple (Logits, FinalState)\n",
    "    \"\"\"\n",
    "    # TODO: Implement Function\n",
    "    #print('input_data shape = ' + str(input_data.shape))\n",
    "    #print('vocab_size = ' + str(vocab_size))\n",
    "    #print('input_data + vocab_size shape = ' + str(input_data.get_shape().as_list() + [vocab_size]))\n",
    "    input_data = get_embed(input_data, vocab_size, embed_dim)\n",
    "    #cell, initalState = get_init_cell(input_data.shape, rnn_size)\n",
    "    output, final_state = build_rnn(cell, input_data)\n",
    "    logits = tf.contrib.layers.fully_connected(output, vocab_size, activation_fn=None)\n",
    "    #print('input_data + vocab_size shape = ' + str(input_data.get_shape().as_list() + [vocab_size]))\n",
    "    return logits, final_state\n",
    "\n",
    "\n",
    "\"\"\"\n",
    "DON'T MODIFY ANYTHING IN THIS CELL THAT IS BELOW THIS LINE\n",
    "\"\"\"\n",
    "tests.test_build_nn(build_nn)"
   ]
  },
  {
   "cell_type": "code",
   "execution_count": null,
   "metadata": {
    "collapsed": true,
    "deletable": true,
    "editable": true
   },
   "outputs": [],
   "source": []
  },
  {
   "cell_type": "code",
   "execution_count": null,
   "metadata": {
    "collapsed": true,
    "deletable": true,
    "editable": true
   },
   "outputs": [],
   "source": []
  },
  {
   "cell_type": "markdown",
   "metadata": {
    "deletable": true,
    "editable": true
   },
   "source": [
    "### Batches\n",
    "Implement `get_batches` to create batches of input and targets using `int_text`.  The batches should be a Numpy array with the shape `(number of batches, 2, batch size, sequence length)`. Each batch contains two elements:\n",
    "- The first element is a single batch of **input** with the shape `[batch size, sequence length]`\n",
    "- The second element is a single batch of **targets** with the shape `[batch size, sequence length]`\n",
    "\n",
    "If you can't fill the last batch with enough data, drop the last batch.\n",
    "\n",
    "For exmple, `get_batches([1, 2, 3, 4, 5, 6, 7, 8, 9, 10, 11, 12, 13, 14, 15, 16, 17, 18, 19, 20], 3, 2)` would return a Numpy array of the following:\n",
    "```\n",
    "[\n",
    "  # First Batch\n",
    "  [\n",
    "    # Batch of Input\n",
    "    [[ 1  2], [ 7  8], [13 14]]\n",
    "    # Batch of targets\n",
    "    [[ 2  3], [ 8  9], [14 15]]\n",
    "  ]\n",
    "\n",
    "  # Second Batch\n",
    "  [\n",
    "    # Batch of Input\n",
    "    [[ 3  4], [ 9 10], [15 16]]\n",
    "    # Batch of targets\n",
    "    [[ 4  5], [10 11], [16 17]]\n",
    "  ]\n",
    "\n",
    "  # Third Batch\n",
    "  [\n",
    "    # Batch of Input\n",
    "    [[ 5  6], [11 12], [17 18]]\n",
    "    # Batch of targets\n",
    "    [[ 6  7], [12 13], [18  1]]\n",
    "  ]\n",
    "]\n",
    "```\n",
    "\n",
    "Notice that the last target value in the last batch is the first input value of the first batch. In this case, `1`. This is a common technique used when creating sequence batches, although it is rather unintuitive."
   ]
  },
  {
   "cell_type": "code",
   "execution_count": 222,
   "metadata": {
    "collapsed": false,
    "deletable": true,
    "editable": true
   },
   "outputs": [
    {
     "name": "stdout",
     "output_type": "stream",
     "text": [
      "128\n",
      "5\n",
      "Tests Passed\n"
     ]
    }
   ],
   "source": [
    "def get_batches(int_text, batch_size, seq_length):\n",
    "    \"\"\"\n",
    "    Return batches of input and target\n",
    "    :param int_text: Text with the words replaced by their ids\n",
    "    :param batch_size: The size of batch\n",
    "    :param seq_length: The length of sequence\n",
    "    :return: Batches as a Numpy array\n",
    "    \"\"\"\n",
    "    # TODO: Implement Function\n",
    "    print(batch_size)\n",
    "    print(seq_length)\n",
    "    n_batches = len(int_text) // (batch_size * seq_length)\n",
    "    \n",
    "    int_text1= np.array(int_text[:n_batches*batch_size*seq_length])\n",
    "    int_text2= np.array(int_text[1:n_batches*batch_size*seq_length +1])\n",
    "    int_text2[-1] = int_text1[0] # last one is first input\n",
    "    \n",
    "    x = np.split(int_text1.reshape(batch_size, -1), n_batches, 1)\n",
    "    y = np.split(int_text2.reshape(batch_size, -1), n_batches, 1)\n",
    "        \n",
    "    result = list(zip(x, y))\n",
    "    return np.array(result)\n",
    "\n",
    "\n",
    "\"\"\"\n",
    "DON'T MODIFY ANYTHING IN THIS CELL THAT IS BELOW THIS LINE\n",
    "\"\"\"\n",
    "tests.test_get_batches(get_batches)"
   ]
  },
  {
   "cell_type": "markdown",
   "metadata": {
    "deletable": true,
    "editable": true
   },
   "source": [
    "## Neural Network Training\n",
    "### Hyperparameters\n",
    "Tune the following parameters:\n",
    "\n",
    "- Set `num_epochs` to the number of epochs.\n",
    "- Set `batch_size` to the batch size.\n",
    "- Set `rnn_size` to the size of the RNNs.\n",
    "- Set `embed_dim` to the size of the embedding.\n",
    "- Set `seq_length` to the length of sequence.\n",
    "- Set `learning_rate` to the learning rate.\n",
    "- Set `show_every_n_batches` to the number of batches the neural network should print progress."
   ]
  },
  {
   "cell_type": "code",
   "execution_count": 223,
   "metadata": {
    "collapsed": true,
    "deletable": true,
    "editable": true
   },
   "outputs": [],
   "source": [
    "# Number of Epochs\n",
    "num_epochs = 300\n",
    "# Batch Size\n",
    "batch_size = 256\n",
    "# RNN Size\n",
    "rnn_size = 256\n",
    "# Embedding Dimension Size\n",
    "embed_dim = 256\n",
    "# Sequence Length\n",
    "seq_length = 20\n",
    "# Learning Rate\n",
    "learning_rate = 0.009\n",
    "# Show stats for every n number of batches\n",
    "show_every_n_batches = 50\n",
    "\n",
    "\"\"\"\n",
    "DON'T MODIFY ANYTHING IN THIS CELL THAT IS BELOW THIS LINE\n",
    "\"\"\"\n",
    "save_dir = './save'"
   ]
  },
  {
   "cell_type": "markdown",
   "metadata": {
    "deletable": true,
    "editable": true
   },
   "source": [
    "### Build the Graph\n",
    "Build the graph using the neural network you implemented."
   ]
  },
  {
   "cell_type": "code",
   "execution_count": 224,
   "metadata": {
    "collapsed": false,
    "deletable": true,
    "editable": true
   },
   "outputs": [
    {
     "name": "stdout",
     "output_type": "stream",
     "text": [
      "input:0\n"
     ]
    }
   ],
   "source": [
    "\"\"\"\n",
    "DON'T MODIFY ANYTHING IN THIS CELL\n",
    "\"\"\"\n",
    "from tensorflow.contrib import seq2seq\n",
    "\n",
    "train_graph = tf.Graph()\n",
    "with train_graph.as_default():\n",
    "    vocab_size = len(int_to_vocab)\n",
    "    input_text, targets, lr = get_inputs()\n",
    "    input_data_shape = tf.shape(input_text)\n",
    "    cell, initial_state = get_init_cell(input_data_shape[0], rnn_size)\n",
    "    logits, final_state = build_nn(cell, rnn_size, input_text, vocab_size, embed_dim)\n",
    "\n",
    "    # Probabilities for generating words\n",
    "    probs = tf.nn.softmax(logits, name='probs')\n",
    "\n",
    "    # Loss function\n",
    "    cost = seq2seq.sequence_loss(\n",
    "        logits,\n",
    "        targets,\n",
    "        tf.ones([input_data_shape[0], input_data_shape[1]]))\n",
    "\n",
    "    # Optimizer\n",
    "    optimizer = tf.train.AdamOptimizer(lr)\n",
    "\n",
    "    # Gradient Clipping\n",
    "    gradients = optimizer.compute_gradients(cost)\n",
    "    capped_gradients = [(tf.clip_by_value(grad, -1., 1.), var) for grad, var in gradients if grad is not None]\n",
    "    train_op = optimizer.apply_gradients(capped_gradients)"
   ]
  },
  {
   "cell_type": "markdown",
   "metadata": {
    "deletable": true,
    "editable": true
   },
   "source": [
    "## Train\n",
    "Train the neural network on the preprocessed data.  If you have a hard time getting a good loss, check the [forums](https://discussions.udacity.com/) to see if anyone is having the same problem."
   ]
  },
  {
   "cell_type": "code",
   "execution_count": 225,
   "metadata": {
    "collapsed": false,
    "deletable": true,
    "editable": true
   },
   "outputs": [
    {
     "name": "stdout",
     "output_type": "stream",
     "text": [
      "256\n",
      "20\n",
      "Epoch   0 Batch    0/13   train_loss = 8.823\n",
      "Epoch   3 Batch   11/13   train_loss = 4.388\n",
      "Epoch   7 Batch    9/13   train_loss = 3.388\n",
      "Epoch  11 Batch    7/13   train_loss = 2.696\n",
      "Epoch  15 Batch    5/13   train_loss = 2.297\n",
      "Epoch  19 Batch    3/13   train_loss = 1.939\n",
      "Epoch  23 Batch    1/13   train_loss = 1.588\n",
      "Epoch  26 Batch   12/13   train_loss = 1.306\n",
      "Epoch  30 Batch   10/13   train_loss = 1.108\n",
      "Epoch  34 Batch    8/13   train_loss = 1.003\n",
      "Epoch  38 Batch    6/13   train_loss = 0.850\n",
      "Epoch  42 Batch    4/13   train_loss = 0.832\n",
      "Epoch  46 Batch    2/13   train_loss = 0.641\n",
      "Epoch  50 Batch    0/13   train_loss = 0.521\n",
      "Epoch  53 Batch   11/13   train_loss = 0.471\n",
      "Epoch  57 Batch    9/13   train_loss = 0.408\n",
      "Epoch  61 Batch    7/13   train_loss = 0.347\n",
      "Epoch  65 Batch    5/13   train_loss = 0.345\n",
      "Epoch  69 Batch    3/13   train_loss = 0.361\n",
      "Epoch  73 Batch    1/13   train_loss = 0.332\n",
      "Epoch  76 Batch   12/13   train_loss = 0.262\n",
      "Epoch  80 Batch   10/13   train_loss = 0.254\n",
      "Epoch  84 Batch    8/13   train_loss = 0.231\n",
      "Epoch  88 Batch    6/13   train_loss = 0.188\n",
      "Epoch  92 Batch    4/13   train_loss = 0.166\n",
      "Epoch  96 Batch    2/13   train_loss = 0.161\n",
      "Epoch 100 Batch    0/13   train_loss = 0.149\n",
      "Epoch 103 Batch   11/13   train_loss = 0.154\n",
      "Epoch 107 Batch    9/13   train_loss = 0.155\n",
      "Epoch 111 Batch    7/13   train_loss = 0.160\n",
      "Epoch 115 Batch    5/13   train_loss = 0.147\n",
      "Epoch 119 Batch    3/13   train_loss = 0.159\n",
      "Epoch 123 Batch    1/13   train_loss = 0.155\n",
      "Epoch 126 Batch   12/13   train_loss = 0.146\n",
      "Epoch 130 Batch   10/13   train_loss = 0.153\n",
      "Epoch 134 Batch    8/13   train_loss = 0.156\n",
      "Epoch 138 Batch    6/13   train_loss = 0.145\n",
      "Epoch 142 Batch    4/13   train_loss = 0.142\n",
      "Epoch 146 Batch    2/13   train_loss = 0.146\n",
      "Epoch 150 Batch    0/13   train_loss = 0.136\n",
      "Epoch 153 Batch   11/13   train_loss = 0.144\n",
      "Epoch 157 Batch    9/13   train_loss = 0.147\n",
      "Epoch 161 Batch    7/13   train_loss = 0.152\n",
      "Epoch 165 Batch    5/13   train_loss = 0.140\n",
      "Epoch 169 Batch    3/13   train_loss = 0.153\n",
      "Epoch 173 Batch    1/13   train_loss = 0.149\n",
      "Epoch 176 Batch   12/13   train_loss = 0.142\n",
      "Epoch 180 Batch   10/13   train_loss = 0.149\n",
      "Epoch 184 Batch    8/13   train_loss = 0.152\n",
      "Epoch 188 Batch    6/13   train_loss = 0.142\n",
      "Epoch 192 Batch    4/13   train_loss = 0.139\n",
      "Epoch 196 Batch    2/13   train_loss = 0.143\n",
      "Epoch 200 Batch    0/13   train_loss = 0.134\n",
      "Epoch 203 Batch   11/13   train_loss = 0.142\n",
      "Epoch 207 Batch    9/13   train_loss = 0.145\n",
      "Epoch 211 Batch    7/13   train_loss = 0.150\n",
      "Epoch 215 Batch    5/13   train_loss = 0.138\n",
      "Epoch 219 Batch    3/13   train_loss = 0.151\n",
      "Epoch 223 Batch    1/13   train_loss = 0.148\n",
      "Epoch 226 Batch   12/13   train_loss = 0.140\n",
      "Epoch 230 Batch   10/13   train_loss = 0.148\n",
      "Epoch 234 Batch    8/13   train_loss = 0.151\n",
      "Epoch 238 Batch    6/13   train_loss = 0.141\n",
      "Epoch 242 Batch    4/13   train_loss = 0.137\n",
      "Epoch 246 Batch    2/13   train_loss = 0.142\n",
      "Epoch 250 Batch    0/13   train_loss = 0.133\n",
      "Epoch 253 Batch   11/13   train_loss = 0.141\n",
      "Epoch 257 Batch    9/13   train_loss = 2.236\n",
      "Epoch 261 Batch    7/13   train_loss = 0.919\n",
      "Epoch 265 Batch    5/13   train_loss = 0.471\n",
      "Epoch 269 Batch    3/13   train_loss = 0.313\n",
      "Epoch 273 Batch    1/13   train_loss = 0.224\n",
      "Epoch 276 Batch   12/13   train_loss = 0.181\n",
      "Epoch 280 Batch   10/13   train_loss = 0.170\n",
      "Epoch 284 Batch    8/13   train_loss = 0.168\n",
      "Epoch 288 Batch    6/13   train_loss = 0.154\n",
      "Epoch 292 Batch    4/13   train_loss = 0.149\n",
      "Epoch 296 Batch    2/13   train_loss = 0.151\n",
      "Model Trained and Saved\n"
     ]
    }
   ],
   "source": [
    "\"\"\"\n",
    "DON'T MODIFY ANYTHING IN THIS CELL\n",
    "\"\"\"\n",
    "batches = get_batches(int_text, batch_size, seq_length)\n",
    "\n",
    "with tf.Session(graph=train_graph) as sess:\n",
    "    sess.run(tf.global_variables_initializer())\n",
    "\n",
    "    for epoch_i in range(num_epochs):\n",
    "        state = sess.run(initial_state, {input_text: batches[0][0]})\n",
    "\n",
    "        for batch_i, (x, y) in enumerate(batches):\n",
    "            feed = {\n",
    "                input_text: x,\n",
    "                targets: y,\n",
    "                initial_state: state,\n",
    "                lr: learning_rate}\n",
    "            train_loss, state, _ = sess.run([cost, final_state, train_op], feed)\n",
    "\n",
    "            # Show every <show_every_n_batches> batches\n",
    "            if (epoch_i * len(batches) + batch_i) % show_every_n_batches == 0:\n",
    "                print('Epoch {:>3} Batch {:>4}/{}   train_loss = {:.3f}'.format(\n",
    "                    epoch_i,\n",
    "                    batch_i,\n",
    "                    len(batches),\n",
    "                    train_loss))\n",
    "\n",
    "    # Save Model\n",
    "    saver = tf.train.Saver()\n",
    "    saver.save(sess, save_dir)\n",
    "    print('Model Trained and Saved')"
   ]
  },
  {
   "cell_type": "markdown",
   "metadata": {
    "deletable": true,
    "editable": true
   },
   "source": [
    "## Save Parameters\n",
    "Save `seq_length` and `save_dir` for generating a new TV script."
   ]
  },
  {
   "cell_type": "code",
   "execution_count": 226,
   "metadata": {
    "collapsed": false,
    "deletable": true,
    "editable": true
   },
   "outputs": [],
   "source": [
    "\"\"\"\n",
    "DON'T MODIFY ANYTHING IN THIS CELL\n",
    "\"\"\"\n",
    "# Save parameters for checkpoint\n",
    "helper.save_params((seq_length, save_dir))"
   ]
  },
  {
   "cell_type": "markdown",
   "metadata": {
    "deletable": true,
    "editable": true
   },
   "source": [
    "# Checkpoint"
   ]
  },
  {
   "cell_type": "code",
   "execution_count": 227,
   "metadata": {
    "collapsed": false,
    "deletable": true,
    "editable": true
   },
   "outputs": [],
   "source": [
    "\"\"\"\n",
    "DON'T MODIFY ANYTHING IN THIS CELL\n",
    "\"\"\"\n",
    "import tensorflow as tf\n",
    "import numpy as np\n",
    "import helper\n",
    "import problem_unittests as tests\n",
    "\n",
    "_, vocab_to_int, int_to_vocab, token_dict = helper.load_preprocess()\n",
    "seq_length, load_dir = helper.load_params()"
   ]
  },
  {
   "cell_type": "markdown",
   "metadata": {
    "deletable": true,
    "editable": true
   },
   "source": [
    "## Implement Generate Functions\n",
    "### Get Tensors\n",
    "Get tensors from `loaded_graph` using the function [`get_tensor_by_name()`](https://www.tensorflow.org/api_docs/python/tf/Graph#get_tensor_by_name).  Get the tensors using the following names:\n",
    "- \"input:0\"\n",
    "- \"initial_state:0\"\n",
    "- \"final_state:0\"\n",
    "- \"probs:0\"\n",
    "\n",
    "Return the tensors in the following tuple `(InputTensor, InitialStateTensor, FinalStateTensor, ProbsTensor)` "
   ]
  },
  {
   "cell_type": "code",
   "execution_count": 228,
   "metadata": {
    "collapsed": false,
    "deletable": true,
    "editable": true
   },
   "outputs": [
    {
     "name": "stdout",
     "output_type": "stream",
     "text": [
      "Tests Passed\n"
     ]
    }
   ],
   "source": [
    "def get_tensors(loaded_graph):\n",
    "    \"\"\"\n",
    "    Get input, initial state, final state, and probabilities tensor from <loaded_graph>\n",
    "    :param loaded_graph: TensorFlow graph loaded from file\n",
    "    :return: Tuple (InputTensor, InitialStateTensor, FinalStateTensor, ProbsTensor)\n",
    "    \"\"\"\n",
    "    # TODO: Implement Function\n",
    "    input_tensor = loaded_graph.get_tensor_by_name('input:0')\n",
    "    initial_state_tensor = loaded_graph.get_tensor_by_name('initial_state:0')\n",
    "    final_state_tensor = loaded_graph.get_tensor_by_name('final_state:0')\n",
    "    probs_tensor = loaded_graph.get_tensor_by_name('probs:0')\n",
    "    return input_tensor, initial_state_tensor, final_state_tensor, probs_tensor\n",
    "\n",
    "\n",
    "\"\"\"\n",
    "DON'T MODIFY ANYTHING IN THIS CELL THAT IS BELOW THIS LINE\n",
    "\"\"\"\n",
    "tests.test_get_tensors(get_tensors)"
   ]
  },
  {
   "cell_type": "markdown",
   "metadata": {
    "deletable": true,
    "editable": true
   },
   "source": [
    "### Choose Word\n",
    "Implement the `pick_word()` function to select the next word using `probabilities`."
   ]
  },
  {
   "cell_type": "code",
   "execution_count": 229,
   "metadata": {
    "collapsed": false,
    "deletable": true,
    "editable": true
   },
   "outputs": [
    {
     "name": "stdout",
     "output_type": "stream",
     "text": [
      "Tests Passed\n"
     ]
    }
   ],
   "source": [
    "def pick_word(probabilities, int_to_vocab):\n",
    "    \"\"\"\n",
    "    Pick the next word in the generated text\n",
    "    :param probabilities: Probabilites of the next word\n",
    "    :param int_to_vocab: Dictionary of word ids as the keys and words as the values\n",
    "    :return: String of the predicted word\n",
    "    \"\"\"\n",
    "    # TODO: Implement Function\n",
    "    return int_to_vocab[np.argmax(probabilities)]\n",
    "\n",
    "\n",
    "\"\"\"\n",
    "DON'T MODIFY ANYTHING IN THIS CELL THAT IS BELOW THIS LINE\n",
    "\"\"\"\n",
    "tests.test_pick_word(pick_word)"
   ]
  },
  {
   "cell_type": "markdown",
   "metadata": {
    "deletable": true,
    "editable": true
   },
   "source": [
    "## Generate TV Script\n",
    "This will generate the TV script for you.  Set `gen_length` to the length of TV script you want to generate."
   ]
  },
  {
   "cell_type": "code",
   "execution_count": 231,
   "metadata": {
    "collapsed": false,
    "deletable": true,
    "editable": true
   },
   "outputs": [
    {
     "name": "stdout",
     "output_type": "stream",
     "text": [
      "INFO:tensorflow:Restoring parameters from ./save\n",
      "moe_szyslak:(into phone) gotcha ya down for forty bucks. good luck your eminence.\n",
      "moe_szyslak: sorry, harv.\n",
      "moe_szyslak: whoa, sounds like one hell of a drink. what is the big deal?\n",
      "carl_carlson:(playful) how'd your date go, moe?\n",
      "moe_szyslak: i don't think you're just made it out.\n",
      "moe_szyslak:(shocked) man alive! there are men alive in here!\n",
      "female_inspector: i'm detecting a distinct strain of anti-intellectualism in this bar.\n",
      "moe_szyslak: i'm spiffin' up my.\n",
      "\n",
      "\n",
      "homer_simpson:(excited) guys, this is the part you'll remember for the rest of your lives...\n",
      "waylon_smithers: huh?(suddenly vicious) listen to me, you coward it is, i just made a little too much beer.\n",
      "moe_szyslak: ooh!\n",
      "barney_gumble: geez!\n",
      "homer_simpson:(sweet) yeah.\n",
      "homer_simpson:(short moan) can't someone else do it?\n",
      "moe_szyslak:(big) huhza?\n",
      "dr. _babcock: i know, in this drink?\n",
      "moe_szyslak:(gently) edna, uh, but that was so hard.(turns to homer) which makes him the next one you've got to kill.\n",
      "moe_szyslak: i got this for women that was a coaster.\n",
      "homer_simpson:(drunk, remorseful) i am so sorry. whatever you do, don't tell you back your beer is like to sing? what?\n",
      "moe_szyslak: well, lessee now... uh, time was a little person.\n",
      "moe_szyslak:(lying) it does. we had thirty--\n",
      "moe_szyslak: the point is, but i am.\n",
      "carl_carlson: you know, i feel pretty good. maybe i have a stool.\n",
      "homer_simpson:(sour) all right. can i like to kiss my own butt.\n",
      "marge_simpson: no, no, it's not okay. i know how to say. the sat's are tomorrow.\n",
      "moe_szyslak:(sobs) it's true! i'm empty, moe.\n",
      "barney_gumble: yeah, we were just messin'--\n",
      "moe_szyslak: the point is this.\n",
      "\n",
      "\n",
      "moe_szyslak: i don't think you're taking unfair advantage of my generous offer.\n",
      "homer_simpson: shut up and hand me out smokin' joe.\n",
      "homer_simpson:(realizing) hey, maggie, maggie!\n",
      "moe_szyslak: yeah! / yeah!\n",
      "barney_gumble: hey homer, how's your neighbor's store doing? it's you. / uh-huh...(big exhale)\n",
      "moe_szyslak:(\" back off\") okay, the service on my.\n",
      "homer_simpson:(sobs) even the little miss\" homer.\"\n",
      "homer_simpson: i don't need your sharity!(beat) you want those by the two book.(sighs) the last one,\" i could really more of the hospital.\n",
      "\n",
      "\n",
      "moe_szyslak:(sighs) yeah, i need someone to help me with the midnight train in there?\n",
      "moe_szyslak: well, anyone knows your mom thinks are you and they must be here drinkin' beer.\n",
      "moe_szyslak: how many people want homer banned from this place look good serious. this guy just got the one of the sumatran century flower, which?\n",
      "moe_szyslak: eh, no point in mopin' around. i might as well join 'em.\n",
      "moe_szyslak: homer, i recommend getting the mr. x thing.(sitting down the jukebox) which makes my meals!\n",
      "carl_carlson: hey, i'm worried.\n",
      "homer_simpson: i've had just about enough.(as patient, cotton in mouth) no problem.\n",
      "homer_simpson: yeah, but you'd feel bad inside.\n",
      "moe_szyslak: plastic surgery it is to be.(to barflies) can i look it. you got dealt a bad hand.\n",
      "homer_simpson:(bitter) i hate the public so much.(wishful) if they had a photo with my point. i don't know, we had good writers. william faulkner could write an exhaust pipe gag that he ripped us from the east? i am so late!\n",
      "homer_simpson:(small laugh) yeah, i knew you'd be disappointed in the real moe.\n",
      "moe_szyslak: hey, homer... what?\n",
      "tv_wife:(from tv) honey, you have a problem. and it won't get better till moe_szyslak: one of him, moe. you're the greatest friend a guy could ever sell it for less, but i am not 'cause you're feeling blue-- i'm a stupid moron with an ugly face and a big butt, and my butt smells, and i like to kiss my own butt.\n",
      "marge_simpson: no, no, it's not like(loud) i'm beggin'.\n",
      "moe_szyslak: if i can see that no one enjoys.\n",
      "moe_szyslak:(amid men's reactions) you got that right!\n",
      "carl_carlson: hey, you should join my religion!\n",
      "carl_carlson: well, if you want to stop me than i did, moe. save 'em in a home for free.\n",
      "carl_carlson: oh yeah, the gimmick is, it's a felony to lie to the fbi.\n",
      "homer_simpson:(ashamed) okay, okay!\n",
      "moe_szyslak:(sing) si-lent night and--\n",
      "moe_szyslak:(happy) i'm so stupid, stupid denver.\n",
      "moe_szyslak: yeah, but still... uh, swishkabobs.\n",
      "waylon_smithers:(knowing chuckle) and, i used to wrestle under the name\" el.\n",
      "homer_simpson:(computer voice) yes, i did.\n",
      "homer_simpson: larry? that was the problem in the first place there?\n",
      "moe_szyslak:(big) huhza?\n",
      "dr. _babcock: i know, in this town, you learn to adjust to things. runaway monorails in the face.(mad) screw you, snail trail!\n",
      "moe_szyslak: okay, here's the life, homer.\n",
      "homer_simpson:(to scully) hello, ma honey / hello, ma ragtime, ragtime gal / my.\n",
      "homer_simpson: guys, i'd like to bet twenty dollars on denver.\n",
      "moe_szyslak:(sobs) oh my god! it's worse than i thought.\n",
      "\n",
      "\n",
      "moe_szyslak: hey, how ya doin'?\n",
      "homer_simpson: i was just tellin' all day.\n",
      "moe_szyslak:(small smile, sighs) uh, i ain't never been slapped with no shirt on\" in his grave robbers won't do a don rickles about arabs, but it turned into a mel gibson about mexicans.\n",
      "\n",
      "\n",
      "carl_carlson: not to mention right to you?\n",
      "moe_szyslak: yeah, you got it, moe.(shuts off your bar tabs.\n",
      "moe_szyslak: ya bunch of ungrateful line.\n",
      "marge_simpson:(talk-sings) i stopped my crying / why i think you had a good to...\"\n",
      "homer_simpson: hey, there's writing on the back of this.\n",
      "homer_simpson:(reading) jane fonda, daniel schorr, where's the best year of my life: nineteen ninety-six.\n",
      "moe_szyslak: my god, no. i want to spend it, and i invented it. that's why it's called a flaming moe\"\n",
      "bart_simpson:(\" shoo fly shoo\") calf's in the field so you sneak up slow!\n",
      "moe_szyslak:(to bears) all right, andalay! hey, what's a glitterati like you that undermine investor confidence.\n",
      "homer_simpson: investor confidence.\n",
      "lenny_leonard:(anguished) oh no, i didn't.\n",
      "moe_szyslak: homer, show a little more sensitivity around. plastic surgery for a while.\n",
      "linda_ronstadt:(singing) when the snow starts a fallin' down.\n",
      "moe_szyslak: oh, so you're looking for a mr. smithers, i-i don't know nothin', moe.\n",
      "moe_szyslak: what got into him?\n",
      "moe_szyslak: freaky ad campaign they're your gonna be sick. if i wanted to hear mindless droning, i'd like to be a snitch?\n",
      "homer_simpson: to come on, you guys. your name is apu du beaumarchais.\n",
      "moe_szyslak:(lying) it does. we had thirty very difficult...\n",
      "homer_simpson:(scoffs) who wants to eat a loser?\n",
      "moe_szyslak:(uneasy) oh, i don't know how to get youse...(then) say, where's the money, moe?\n",
      "moe_szyslak: yeah, he was my manager.\n",
      "\n",
      "\n",
      "moe_szyslak:(to homer) easy there, habitrail.\n",
      "homer_simpson: yeah, but aren't those experiments looking around-- don't even give his his noggin and you gotta do everything like they did back a favor.\n",
      "homer_simpson: oh, moe...\n",
      "homer_simpson:(intrigued) uh-huh! thank god it's the only thing better than duff...\n",
      "barflies:(lying) uh, let me guess...(then) eww...(then) eww...(changing subject) hey, would ya see, and i think it's not.\n",
      "barney_gumble: i'm a free man, ain't i?\n",
      "homer_simpson:(bitter) i hate the public so much.(wishful) if they had a photo with my point. i don't know, we had good writers. william faulkner could write an exhaust pipe gag that he ripped us from the east? i am so late!\n",
      "homer_simpson:(small laugh) yeah, i knew you'd be disappointed in the real moe.\n",
      "moe_szyslak: hey, homer... what?\n",
      "tv_wife:(from tv) honey, you have a problem. and it won't get better till moe_szyslak: one of him, moe. you're the greatest friend a guy could ever sell it for less, but i am not 'cause you're feeling blue-- i'm a stupid moron with an ugly face and a big butt, and my butt smells, and i like to kiss my own butt.\n",
      "marge_simpson: no, no, it's not like(loud) i'm beggin'.\n",
      "moe_szyslak: if i can see that no one enjoys.\n",
      "moe_szyslak:(amid men's reactions) you got that right!\n",
      "carl_carlson: hey, you should join my religion!\n",
      "carl_carlson: well, if you want to stop me than i did, moe. save 'em in a home for free.\n",
      "carl_carlson: oh yeah, the gimmick is, it's a felony to lie to the fbi.\n",
      "homer_simpson:(ashamed) okay, okay!\n",
      "moe_szyslak:(sing) si-lent night and--\n",
      "moe_szyslak:(happy) i'm so stupid, stupid denver.\n",
      "moe_szyslak: yeah, but still... uh, swishkabobs.\n",
      "waylon_smithers:(knowing chuckle) and, i used to wrestle under the name\" el.\n",
      "homer_simpson:(computer voice) yes, i did.\n",
      "homer_simpson: larry? that was the problem in the first place there?\n",
      "moe_szyslak:(big) huhza?\n",
      "dr. _babcock: i know, in this town, you learn to adjust to\n"
     ]
    }
   ],
   "source": [
    "gen_length = 2000\n",
    "# homer_simpson, moe_szyslak, or Barney_Gumble\n",
    "prime_word = 'moe_szyslak'\n",
    "\n",
    "\"\"\"\n",
    "DON'T MODIFY ANYTHING IN THIS CELL THAT IS BELOW THIS LINE\n",
    "\"\"\"\n",
    "loaded_graph = tf.Graph()\n",
    "with tf.Session(graph=loaded_graph) as sess:\n",
    "    # Load saved model\n",
    "    loader = tf.train.import_meta_graph(load_dir + '.meta')\n",
    "    loader.restore(sess, load_dir)\n",
    "\n",
    "    # Get Tensors from loaded model\n",
    "    input_text, initial_state, final_state, probs = get_tensors(loaded_graph)\n",
    "\n",
    "    # Sentences generation setup\n",
    "    gen_sentences = [prime_word + ':']\n",
    "    prev_state = sess.run(initial_state, {input_text: np.array([[1]])})\n",
    "\n",
    "    # Generate sentences\n",
    "    for n in range(gen_length):\n",
    "        # Dynamic Input\n",
    "        dyn_input = [[vocab_to_int[word] for word in gen_sentences[-seq_length:]]]\n",
    "        dyn_seq_length = len(dyn_input[0])\n",
    "\n",
    "        # Get Prediction\n",
    "        probabilities, prev_state = sess.run(\n",
    "            [probs, final_state],\n",
    "            {input_text: dyn_input, initial_state: prev_state})\n",
    "        \n",
    "        pred_word = pick_word(probabilities[dyn_seq_length-1], int_to_vocab)\n",
    "\n",
    "        gen_sentences.append(pred_word)\n",
    "    \n",
    "    # Remove tokens\n",
    "    tv_script = ' '.join(gen_sentences)\n",
    "    for key, token in token_dict.items():\n",
    "        ending = ' ' if key in ['\\n', '(', '\"'] else ''\n",
    "        tv_script = tv_script.replace(' ' + token.lower(), key)\n",
    "    tv_script = tv_script.replace('\\n ', '\\n')\n",
    "    tv_script = tv_script.replace('( ', '(')\n",
    "        \n",
    "    print(tv_script)"
   ]
  },
  {
   "cell_type": "markdown",
   "metadata": {
    "deletable": true,
    "editable": true
   },
   "source": [
    "# The TV Script is Nonsensical\n",
    "It's ok if the TV script doesn't make any sense.  We trained on less than a megabyte of text.  In order to get good results, you'll have to use a smaller vocabulary or get more data.  Luckly there's more data!  As we mentioned in the begging of this project, this is a subset of [another dataset](https://www.kaggle.com/wcukierski/the-simpsons-by-the-data).  We didn't have you train on all the data, because that would take too long.  However, you are free to train your neural network on all the data.  After you complete the project, of course.\n",
    "# Submitting This Project\n",
    "When submitting this project, make sure to run all the cells before saving the notebook. Save the notebook file as \"dlnd_tv_script_generation.ipynb\" and save it as a HTML file under \"File\" -> \"Download as\". Include the \"helper.py\" and \"problem_unittests.py\" files in your submission."
   ]
  }
 ],
 "metadata": {
  "kernelspec": {
   "display_name": "Python 3",
   "language": "python",
   "name": "python3"
  },
  "language_info": {
   "codemirror_mode": {
    "name": "ipython",
    "version": 3
   },
   "file_extension": ".py",
   "mimetype": "text/x-python",
   "name": "python",
   "nbconvert_exporter": "python",
   "pygments_lexer": "ipython3",
   "version": "3.6.2"
  },
  "widgets": {
   "state": {},
   "version": "1.1.2"
  }
 },
 "nbformat": 4,
 "nbformat_minor": 0
}
