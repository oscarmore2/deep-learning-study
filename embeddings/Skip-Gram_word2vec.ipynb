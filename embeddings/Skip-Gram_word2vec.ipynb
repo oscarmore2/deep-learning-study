{
 "cells": [
  {
   "cell_type": "markdown",
   "metadata": {},
   "source": [
    "# Skip-gram word2vec\n",
    "\n",
    "In this notebook, I'll lead you through using TensorFlow to implement the word2vec algorithm using the skip-gram architecture. By implementing this, you'll learn about embedding words for use in natural language processing. This will come in handy when dealing with things like machine translation.\n",
    "\n",
    "## Readings\n",
    "\n",
    "Here are the resources I used to build this notebook. I suggest reading these either beforehand or while you're working on this material.\n",
    "\n",
    "* A really good [conceptual overview](http://mccormickml.com/2016/04/19/word2vec-tutorial-the-skip-gram-model/) of word2vec from Chris McCormick \n",
    "* [First word2vec paper](https://arxiv.org/pdf/1301.3781.pdf) from Mikolov et al.\n",
    "* [NIPS paper](http://papers.nips.cc/paper/5021-distributed-representations-of-words-and-phrases-and-their-compositionality.pdf) with improvements for word2vec also from Mikolov et al.\n",
    "* An [implementation of word2vec](http://www.thushv.com/natural_language_processing/word2vec-part-1-nlp-with-deep-learning-with-tensorflow-skip-gram/) from Thushan Ganegedara\n",
    "* TensorFlow [word2vec tutorial](https://www.tensorflow.org/tutorials/word2vec)\n",
    "\n",
    "## Word embeddings\n",
    "\n",
    "When you're dealing with words in text, you end up with tens of thousands of classes to predict, one for each word. Trying to one-hot encode these words is massively inefficient, you'll have one element set to 1 and the other 50,000 set to 0. The matrix multiplication going into the first hidden layer will have almost all of the resulting values be zero. This a huge waste of computation. \n",
    "\n",
    "![one-hot encodings](assets/one_hot_encoding.png)\n",
    "\n",
    "To solve this problem and greatly increase the efficiency of our networks, we use what are called embeddings. Embeddings are just a fully connected layer like you've seen before. We call this layer the embedding layer and the weights are embedding weights. We skip the multiplication into the embedding layer by instead directly grabbing the hidden layer values from the weight matrix. We can do this because the multiplication of a one-hot encoded vector with a matrix returns the row of the matrix corresponding the index of the \"on\" input unit.\n",
    "\n",
    "![lookup](assets/lookup_matrix.png)\n",
    "\n",
    "Instead of doing the matrix multiplication, we use the weight matrix as a lookup table. We encode the words as integers, for example \"heart\" is encoded as 958, \"mind\" as 18094. Then to get hidden layer values for \"heart\", you just take the 958th row of the embedding matrix. This process is called an **embedding lookup** and the number of hidden units is the **embedding dimension**.\n",
    "\n",
    "<img src='assets/tokenize_lookup.png' width=500>\n",
    " \n",
    "There is nothing magical going on here. The embedding lookup table is just a weight matrix. The embedding layer is just a hidden layer. The lookup is just a shortcut for the matrix multiplication. The lookup table is trained just like any weight matrix as well.\n",
    "\n",
    "Embeddings aren't only used for words of course. You can use them for any model where you have a massive number of classes. A particular type of model called **Word2Vec** uses the embedding layer to find vector representations of words that contain semantic meaning.\n",
    "\n"
   ]
  },
  {
   "cell_type": "markdown",
   "metadata": {},
   "source": [
    "## Word2Vec\n",
    "\n",
    "The word2vec algorithm finds much more efficient representations by finding vectors that represent the words. These vectors also contain semantic information about the words. Words that show up in similar contexts, such as \"black\", \"white\", and \"red\" will have vectors near each other. There are two architectures for implementing word2vec, CBOW (Continuous Bag-Of-Words) and Skip-gram.\n",
    "\n",
    "<img src=\"assets/word2vec_architectures.png\" width=\"500\">\n",
    "\n",
    "In this implementation, we'll be using the skip-gram architecture because it performs better than CBOW. Here, we pass in a word and try to predict the words surrounding it in the text. In this way, we can train the network to learn representations for words that show up in similar contexts.\n",
    "\n",
    "First up, importing packages."
   ]
  },
  {
   "cell_type": "code",
   "execution_count": 1,
   "metadata": {
    "collapsed": true
   },
   "outputs": [],
   "source": [
    "import time\n",
    "\n",
    "import numpy as np\n",
    "import tensorflow as tf\n",
    "\n",
    "import utils"
   ]
  },
  {
   "cell_type": "markdown",
   "metadata": {},
   "source": [
    "Load the [text8 dataset](http://mattmahoney.net/dc/textdata.html), a file of cleaned up Wikipedia articles from Matt Mahoney. The next cell will download the data set to the `data` folder. Then you can extract it and delete the archive file to save storage space."
   ]
  },
  {
   "cell_type": "code",
   "execution_count": 2,
   "metadata": {
    "collapsed": true
   },
   "outputs": [],
   "source": [
    "from urllib.request import urlretrieve\n",
    "from os.path import isfile, isdir\n",
    "from tqdm import tqdm\n",
    "import zipfile\n",
    "\n",
    "dataset_folder_path = 'data'\n",
    "dataset_filename = 'text8.zip'\n",
    "dataset_name = 'Text8 Dataset'\n",
    "\n",
    "class DLProgress(tqdm):\n",
    "    last_block = 0\n",
    "\n",
    "    def hook(self, block_num=1, block_size=1, total_size=None):\n",
    "        self.total = total_size\n",
    "        self.update((block_num - self.last_block) * block_size)\n",
    "        self.last_block = block_num\n",
    "\n",
    "if not isfile(dataset_filename):\n",
    "    with DLProgress(unit='B', unit_scale=True, miniters=1, desc=dataset_name) as pbar:\n",
    "        urlretrieve(\n",
    "            'http://mattmahoney.net/dc/text8.zip',\n",
    "            dataset_filename,\n",
    "            pbar.hook)\n",
    "\n",
    "if not isdir(dataset_folder_path):\n",
    "    with zipfile.ZipFile(dataset_filename) as zip_ref:\n",
    "        zip_ref.extractall(dataset_folder_path)\n",
    "        \n",
    "with open('data/text8') as f:\n",
    "    text = f.read()"
   ]
  },
  {
   "cell_type": "markdown",
   "metadata": {},
   "source": [
    "## Preprocessing\n",
    "\n",
    "Here I'm fixing up the text to make training easier. This comes from the `utils` module I wrote. The `preprocess` function coverts any punctuation into tokens, so a period is changed to ` <PERIOD> `. In this data set, there aren't any periods, but it will help in other NLP problems. I'm also removing all words that show up five or fewer times in the dataset. This will greatly reduce issues due to noise in the data and improve the quality of the vector representations. If you want to write your own functions for this stuff, go for it."
   ]
  },
  {
   "cell_type": "code",
   "execution_count": 3,
   "metadata": {},
   "outputs": [
    {
     "name": "stdout",
     "output_type": "stream",
     "text": [
      "['anarchism', 'originated', 'as', 'a', 'term', 'of', 'abuse', 'first', 'used', 'against', 'early', 'working', 'class', 'radicals', 'including', 'the', 'diggers', 'of', 'the', 'english', 'revolution', 'and', 'the', 'sans', 'culottes', 'of', 'the', 'french', 'revolution', 'whilst']\n"
     ]
    }
   ],
   "source": [
    "words = utils.preprocess(text)\n",
    "print(words[:30])"
   ]
  },
  {
   "cell_type": "code",
   "execution_count": 4,
   "metadata": {},
   "outputs": [
    {
     "name": "stdout",
     "output_type": "stream",
     "text": [
      "Total words: 16680599\n",
      "Unique words: 63641\n"
     ]
    }
   ],
   "source": [
    "print(\"Total words: {}\".format(len(words)))\n",
    "print(\"Unique words: {}\".format(len(set(words))))"
   ]
  },
  {
   "cell_type": "markdown",
   "metadata": {},
   "source": [
    "And here I'm creating dictionaries to covert words to integers and backwards, integers to words. The integers are assigned in descending frequency order, so the most frequent word (\"the\") is given the integer 0 and the next most frequent is 1 and so on. The words are converted to integers and stored in the list `int_words`."
   ]
  },
  {
   "cell_type": "code",
   "execution_count": 5,
   "metadata": {},
   "outputs": [
    {
     "name": "stdout",
     "output_type": "stream",
     "text": [
      "[5233, 3080, 11, 5, 194, 1, 3133, 45, 58, 155, 127, 741, 476, 10571, 133, 0, 27349, 1, 0, 102, 854, 2, 0, 15067, 58112, 1, 0, 150, 854, 3580, 0, 194, 10, 190, 58, 4, 5, 10712, 214, 6, 1324, 104, 454, 19, 58, 2731, 362, 6, 3672, 0, 708, 1, 371, 26, 40, 36, 53, 539, 97, 11, 5, 1423, 2757, 18, 567, 686, 7088, 0, 247, 5233, 10, 1052, 27, 0, 320, 248, 44611, 2877, 792, 186, 5233, 11, 5, 200, 602, 10, 0, 1134, 19, 2621, 25, 8983, 2, 279, 31, 4147, 141, 59, 25, 6437]\n",
      "16680599\n"
     ]
    }
   ],
   "source": [
    "vocab_to_int, int_to_vocab = utils.create_lookup_tables(words)\n",
    "int_words = [vocab_to_int[word] for word in words]\n",
    "print(int_words[:100])\n",
    "print(len(int_words))"
   ]
  },
  {
   "cell_type": "markdown",
   "metadata": {},
   "source": [
    "## Subsampling\n",
    "\n",
    "Words that show up often such as \"the\", \"of\", and \"for\" don't provide much context to the nearby words. If we discard some of them, we can remove some of the noise from our data and in return get faster training and better representations. This process is called subsampling by Mikolov. For each word $w_i$ in the training set, we'll discard it with probability given by \n",
    "\n",
    "$$ P(w_i) = 1 - \\sqrt{\\frac{t}{f(w_i)}} $$\n",
    "\n",
    "where $t$ is a threshold parameter and $f(w_i)$ is the frequency of word $w_i$ in the total dataset.\n",
    "\n",
    "I'm going to leave this up to you as an exercise. This is more of a programming challenge, than about deep learning specifically. But, being able to prepare your data for your network is an important skill to have. Check out my solution to see how I did it.\n",
    "\n",
    "> **Exercise:** Implement subsampling for the words in `int_words`. That is, go through `int_words` and discard each word given the probablility $P(w_i)$ shown above. Note that $P(w_i)$ is the probability that a word is discarded. Assign the subsampled data to `train_words`."
   ]
  },
  {
   "cell_type": "code",
   "execution_count": 6,
   "metadata": {},
   "outputs": [
    {
     "ename": "NameError",
     "evalue": "name 'total_count' is not defined",
     "output_type": "error",
     "traceback": [
      "\u001b[1;31m---------------------------------------------------------------------------\u001b[0m",
      "\u001b[1;31mNameError\u001b[0m                                 Traceback (most recent call last)",
      "\u001b[1;32m<ipython-input-6-925274ff390c>\u001b[0m in \u001b[0;36m<module>\u001b[1;34m()\u001b[0m\n\u001b[0;32m     14\u001b[0m \u001b[1;33m\u001b[0m\u001b[0m\n\u001b[0;32m     15\u001b[0m \u001b[1;31m## Your code here\u001b[0m\u001b[1;33m\u001b[0m\u001b[1;33m\u001b[0m\u001b[0m\n\u001b[1;32m---> 16\u001b[1;33m \u001b[0mword_set\u001b[0m \u001b[1;33m=\u001b[0m \u001b[0mtrain_word\u001b[0m\u001b[1;33m(\u001b[0m\u001b[0mint_words\u001b[0m\u001b[1;33m,\u001b[0m \u001b[1;36m0.00005\u001b[0m\u001b[1;33m)\u001b[0m\u001b[1;33m\u001b[0m\u001b[0m\n\u001b[0m\u001b[0;32m     17\u001b[0m \u001b[0mtrain_words\u001b[0m \u001b[1;33m=\u001b[0m \u001b[1;33m[\u001b[0m\u001b[1;33m]\u001b[0m\u001b[1;33m\u001b[0m\u001b[0m\n\u001b[0;32m     18\u001b[0m \u001b[0mtrain_words\u001b[0m \u001b[1;33m=\u001b[0m \u001b[1;33m[\u001b[0m\u001b[0mword\u001b[0m \u001b[1;32mfor\u001b[0m \u001b[0mword\u001b[0m \u001b[1;32min\u001b[0m \u001b[0mint_words\u001b[0m \u001b[1;32mif\u001b[0m \u001b[0mrandom\u001b[0m\u001b[1;33m.\u001b[0m\u001b[0mrandom\u001b[0m\u001b[1;33m(\u001b[0m\u001b[1;33m)\u001b[0m \u001b[1;33m<\u001b[0m \u001b[1;33m(\u001b[0m\u001b[1;36m1\u001b[0m \u001b[1;33m-\u001b[0m \u001b[0mword_set\u001b[0m\u001b[1;33m[\u001b[0m\u001b[0mword\u001b[0m\u001b[1;33m]\u001b[0m\u001b[1;33m)\u001b[0m\u001b[1;33m]\u001b[0m\u001b[1;33m\u001b[0m\u001b[0m\n",
      "\u001b[1;32m<ipython-input-6-925274ff390c>\u001b[0m in \u001b[0;36mtrain_word\u001b[1;34m(word_list, t)\u001b[0m\n\u001b[0;32m      7\u001b[0m     \u001b[0mF_word\u001b[0m \u001b[1;33m=\u001b[0m \u001b[1;33m{\u001b[0m\u001b[1;33m}\u001b[0m\u001b[1;33m\u001b[0m\u001b[0m\n\u001b[0;32m      8\u001b[0m     \u001b[1;32mfor\u001b[0m \u001b[0mword\u001b[0m\u001b[1;33m,\u001b[0m \u001b[0mcount\u001b[0m \u001b[1;32min\u001b[0m \u001b[0mwordCountDict\u001b[0m\u001b[1;33m.\u001b[0m\u001b[0mitems\u001b[0m\u001b[1;33m(\u001b[0m\u001b[1;33m)\u001b[0m\u001b[1;33m:\u001b[0m\u001b[1;33m\u001b[0m\u001b[0m\n\u001b[1;32m----> 9\u001b[1;33m         \u001b[0mwordFrenDict\u001b[0m\u001b[1;33m[\u001b[0m\u001b[0mword\u001b[0m\u001b[1;33m]\u001b[0m \u001b[1;33m=\u001b[0m \u001b[0mcount\u001b[0m\u001b[1;33m/\u001b[0m\u001b[0mtotal_count\u001b[0m\u001b[1;33m\u001b[0m\u001b[0m\n\u001b[0m\u001b[0;32m     10\u001b[0m     \u001b[1;32mfor\u001b[0m \u001b[0mword\u001b[0m \u001b[1;32min\u001b[0m \u001b[0mword_counts\u001b[0m\u001b[1;33m:\u001b[0m\u001b[1;33m\u001b[0m\u001b[0m\n\u001b[0;32m     11\u001b[0m         \u001b[0mF_word\u001b[0m\u001b[1;33m[\u001b[0m\u001b[0mword\u001b[0m\u001b[1;33m]\u001b[0m \u001b[1;33m=\u001b[0m \u001b[1;36m1\u001b[0m \u001b[1;33m-\u001b[0m \u001b[0mnp\u001b[0m\u001b[1;33m.\u001b[0m\u001b[0msqrt\u001b[0m\u001b[1;33m(\u001b[0m\u001b[0mt\u001b[0m \u001b[1;33m/\u001b[0m \u001b[0mwordFrenDict\u001b[0m\u001b[1;33m[\u001b[0m\u001b[0mword\u001b[0m\u001b[1;33m]\u001b[0m\u001b[1;33m)\u001b[0m\u001b[1;33m\u001b[0m\u001b[0m\n",
      "\u001b[1;31mNameError\u001b[0m: name 'total_count' is not defined"
     ]
    }
   ],
   "source": [
    "from collections import Counter\n",
    "import random\n",
    "\n",
    "def train_word(word_list, t):\n",
    "    wordCountDict= Counter(int_words)\n",
    "    wordFrenDict={}\n",
    "    F_word = {}\n",
    "    for word, count in wordCountDict.items():\n",
    "        wordFrenDict[word] = count/total_count\n",
    "    for word in word_counts:\n",
    "        F_word[word] = 1 - np.sqrt(t / wordFrenDict[word])\n",
    "    \n",
    "    return F_word\n",
    "\n",
    "## Your code here\n",
    "word_set = train_word(int_words, 0.00005)\n",
    "train_words = []\n",
    "train_words = [word for word in int_words if random.random() < (1 - word_set[word])]\n",
    "print(train_words[:10])\n",
    "\n",
    "    "
   ]
  },
  {
   "cell_type": "markdown",
   "metadata": {},
   "source": [
    "## Making batches"
   ]
  },
  {
   "cell_type": "markdown",
   "metadata": {},
   "source": [
    "Now that our data is in good shape, we need to get it into the proper form to pass it into our network. With the skip-gram architecture, for each word in the text, we want to grab all the words in a window around that word, with size $C$. \n",
    "\n",
    "From [Mikolov et al.](https://arxiv.org/pdf/1301.3781.pdf): \n",
    "\n",
    "\"Since the more distant words are usually less related to the current word than those close to it, we give less weight to the distant words by sampling less from those words in our training examples... If we choose $C = 5$, for each training word we will select randomly a number $R$ in range $< 1; C >$, and then use $R$ words from history and $R$ words from the future of the current word as correct labels.\"\n",
    "\n",
    "> **Exercise:** Implement a function `get_target` that receives a list of words, an index, and a window size, then returns a list of words in the window around the index. Make sure to use the algorithm described above, where you choose a random number of words from the window."
   ]
  },
  {
   "cell_type": "code",
   "execution_count": 51,
   "metadata": {
    "collapsed": true
   },
   "outputs": [],
   "source": [
    "import random\n",
    "def get_target(words, idx, window_size=5):\n",
    "    ''' Get a list of words in a window around an index. '''\n",
    "    \n",
    "    # Your code here\n",
    "    rand = np.random.randint(1,window_size+1)\n",
    "    begin = idx - rand if (idx - rand) > 0 else 0\n",
    "    end = idx + rand\n",
    "    target = list(set(words[begin:idx] + words[idx+1:end+1]))\n",
    "    #print(target)\n",
    "    \n",
    "    return target"
   ]
  },
  {
   "cell_type": "markdown",
   "metadata": {},
   "source": [
    "Here's a function that returns batches for our network. The idea is that it grabs `batch_size` words from a words list. Then for each of those words, it gets the target words in the window. I haven't found a way to pass in a random number of target words and get it to work with the architecture, so I make one row per input-target pair. This is a generator function by the way, helps save memory."
   ]
  },
  {
   "cell_type": "code",
   "execution_count": 52,
   "metadata": {
    "collapsed": true
   },
   "outputs": [],
   "source": [
    "def get_batches(words, batch_size, window_size=5):\n",
    "    ''' Create a generator of word batches as a tuple (inputs, targets) '''\n",
    "    \n",
    "    n_batches = len(words)//batch_size\n",
    "    \n",
    "    # only full batches\n",
    "    words = words[:n_batches*batch_size]\n",
    "    \n",
    "    for idx in range(0, len(words), batch_size):\n",
    "        x, y = [], []\n",
    "        batch = words[idx:idx+batch_size]\n",
    "        for ii in range(len(batch)):\n",
    "            batch_x = batch[ii]\n",
    "            batch_y = get_target(batch, ii, window_size)\n",
    "            y.extend(batch_y)\n",
    "            x.extend([batch_x]*len(batch_y))\n",
    "        yield x, y\n",
    "    "
   ]
  },
  {
   "cell_type": "markdown",
   "metadata": {},
   "source": [
    "## Building the graph\n",
    "\n",
    "From [Chris McCormick's blog](http://mccormickml.com/2016/04/19/word2vec-tutorial-the-skip-gram-model/), we can see the general structure of our network.\n",
    "![embedding_network](./assets/skip_gram_net_arch.png)\n",
    "\n",
    "The input words are passed in as integers. This will go into a hidden layer of linear units, then into a softmax layer. We'll use the softmax layer to make a prediction like normal.\n",
    "\n",
    "The idea here is to train the hidden layer weight matrix to find efficient representations for our words. We can discard the softmax layer becuase we don't really care about making predictions with this network. We just want the embedding matrix so we can use it in other networks we build from the dataset.\n",
    "\n",
    "I'm going to have you build the graph in stages now. First off, creating the `inputs` and `labels` placeholders like normal.\n",
    "\n",
    "> **Exercise:** Assign `inputs` and `labels` using `tf.placeholder`. We're going to be passing in integers, so set the data types to `tf.int32`. The batches we're passing in will have varying sizes, so set the batch sizes to [`None`]. To make things work later, you'll need to set the second dimension of `labels` to `None` or `1`."
   ]
  },
  {
   "cell_type": "code",
   "execution_count": 53,
   "metadata": {
    "collapsed": true
   },
   "outputs": [],
   "source": [
    "train_graph = tf.Graph()\n",
    "with train_graph.as_default():\n",
    "    inputs = tf.placeholder(tf.int32, [None], name='inputs')\n",
    "    labels = tf.placeholder(tf.int32, [None, None], name='labels')"
   ]
  },
  {
   "cell_type": "markdown",
   "metadata": {},
   "source": [
    "## Embedding\n",
    "\n"
   ]
  },
  {
   "cell_type": "markdown",
   "metadata": {
    "collapsed": true
   },
   "source": [
    "The embedding matrix has a size of the number of words by the number of units in the hidden layer. So, if you have 10,000 words and 300 hidden units, the matrix will have size $10,000 \\times 300$. Remember that we're using tokenized data for our inputs, usually as integers, where the number of tokens is the number of words in our vocabulary.\n",
    "\n",
    "\n",
    "> **Exercise:** Tensorflow provides a convenient function [`tf.nn.embedding_lookup`](https://www.tensorflow.org/api_docs/python/tf/nn/embedding_lookup) that does this lookup for us. You pass in the embedding matrix and a tensor of integers, then it returns rows in the matrix corresponding to those integers. Below, set the number of embedding features you'll use (200 is a good start), create the embedding matrix variable, and use `tf.nn.embedding_lookup` to get the embedding tensors. For the embedding matrix, I suggest you initialize it with a uniform random numbers between -1 and 1 using [tf.random_uniform](https://www.tensorflow.org/api_docs/python/tf/random_uniform)."
   ]
  },
  {
   "cell_type": "code",
   "execution_count": 54,
   "metadata": {
    "collapsed": true
   },
   "outputs": [],
   "source": [
    "n_vocab = len(int_to_vocab)\n",
    "n_embedding =  250# Number of embedding features \n",
    "with train_graph.as_default():\n",
    "    embedding = tf.Variable(tf.random_uniform((n_vocab, n_embedding), -1, 1))\n",
    "    embed = tf.nn.embedding_lookup(embedding, inputs)"
   ]
  },
  {
   "cell_type": "markdown",
   "metadata": {},
   "source": [
    "## Negative sampling\n",
    "\n"
   ]
  },
  {
   "cell_type": "markdown",
   "metadata": {},
   "source": [
    "For every example we give the network, we train it using the output from the softmax layer. That means for each input, we're making very small changes to millions of weights even though we only have one true example. This makes training the network very inefficient. We can approximate the loss from the softmax layer by only updating a small subset of all the weights at once. We'll update the weights for the correct label, but only a small number of incorrect labels. This is called [\"negative sampling\"](http://papers.nips.cc/paper/5021-distributed-representations-of-words-and-phrases-and-their-compositionality.pdf). Tensorflow has a convenient function to do this, [`tf.nn.sampled_softmax_loss`](https://www.tensorflow.org/api_docs/python/tf/nn/sampled_softmax_loss).\n",
    "\n",
    "> **Exercise:** Below, create weights and biases for the softmax layer. Then, use [`tf.nn.sampled_softmax_loss`](https://www.tensorflow.org/api_docs/python/tf/nn/sampled_softmax_loss) to calculate the loss. Be sure to read the documentation to figure out how it works."
   ]
  },
  {
   "cell_type": "code",
   "execution_count": 55,
   "metadata": {
    "collapsed": true
   },
   "outputs": [],
   "source": [
    "# Number of negative labels to sample\n",
    "n_sampled = 100\n",
    "with train_graph.as_default():\n",
    "    softmax_w = tf.Variable(tf.truncated_normal((n_vocab, n_embedding), stddev=0.1))\n",
    "    softmax_b = tf.Variable(tf.zeros(n_vocab))\n",
    "    \n",
    "    # Calculate the loss using negative sampling\n",
    "    loss = tf.nn.sampled_softmax_loss(softmax_w, softmax_b, \n",
    "                                      labels, embed,\n",
    "                                      n_sampled, n_vocab)\n",
    "    \n",
    "    cost = tf.reduce_mean(loss)\n",
    "    optimizer = tf.train.AdamOptimizer().minimize(cost)"
   ]
  },
  {
   "cell_type": "markdown",
   "metadata": {},
   "source": [
    "## Validation\n",
    "\n",
    "This code is from Thushan Ganegedara's implementation. Here we're going to choose a few common words and few uncommon words. Then, we'll print out the closest words to them. It's a nice way to check that our embedding table is grouping together words with similar semantic meanings."
   ]
  },
  {
   "cell_type": "code",
   "execution_count": 56,
   "metadata": {
    "collapsed": true
   },
   "outputs": [],
   "source": [
    "with train_graph.as_default():\n",
    "    ## From Thushan Ganegedara's implementation\n",
    "    valid_size = 16 # Random set of words to evaluate similarity on.\n",
    "    valid_window = 100\n",
    "    # pick 8 samples from (0,100) and (1000,1100) each ranges. lower id implies more frequent \n",
    "    valid_examples = np.array(random.sample(range(valid_window), valid_size//2))\n",
    "    valid_examples = np.append(valid_examples, \n",
    "                               random.sample(range(1000,1000+valid_window), valid_size//2))\n",
    "\n",
    "    valid_dataset = tf.constant(valid_examples, dtype=tf.int32)\n",
    "    \n",
    "    # We use the cosine distance:\n",
    "    norm = tf.sqrt(tf.reduce_sum(tf.square(embedding), 1, keep_dims=True))\n",
    "    normalized_embedding = embedding / norm\n",
    "    valid_embedding = tf.nn.embedding_lookup(normalized_embedding, valid_dataset)\n",
    "    similarity = tf.matmul(valid_embedding, tf.transpose(normalized_embedding))"
   ]
  },
  {
   "cell_type": "code",
   "execution_count": 57,
   "metadata": {},
   "outputs": [
    {
     "name": "stderr",
     "output_type": "stream",
     "text": [
      "子目录或文件 checkpoints 已经存在。\n"
     ]
    }
   ],
   "source": [
    "# If the checkpoints directory doesn't exist:\n",
    "!mkdir checkpoints"
   ]
  },
  {
   "cell_type": "markdown",
   "metadata": {},
   "source": [
    "## Training\n",
    "\n",
    "Below is the code to train the network. Every 100 batches it reports the training loss. Every 1000 batches, it'll print out the validation words."
   ]
  },
  {
   "cell_type": "code",
   "execution_count": 58,
   "metadata": {},
   "outputs": [
    {
     "name": "stdout",
     "output_type": "stream",
     "text": [
      "Epoch 1/10 Iteration: 100 Avg. Training loss: 6.2169 0.3755 sec/batch\n",
      "Epoch 1/10 Iteration: 200 Avg. Training loss: 6.1692 0.3810 sec/batch\n",
      "Epoch 1/10 Iteration: 300 Avg. Training loss: 6.1532 0.3776 sec/batch\n",
      "Epoch 1/10 Iteration: 400 Avg. Training loss: 6.0828 0.3774 sec/batch\n",
      "Epoch 1/10 Iteration: 500 Avg. Training loss: 6.0003 0.3805 sec/batch\n",
      "Epoch 1/10 Iteration: 600 Avg. Training loss: 6.0686 0.3789 sec/batch\n",
      "Epoch 1/10 Iteration: 700 Avg. Training loss: 5.9164 0.3825 sec/batch\n",
      "Epoch 1/10 Iteration: 800 Avg. Training loss: 5.8426 0.3891 sec/batch\n",
      "Epoch 1/10 Iteration: 900 Avg. Training loss: 5.7742 0.3847 sec/batch\n",
      "Epoch 1/10 Iteration: 1000 Avg. Training loss: 5.6661 0.3804 sec/batch\n",
      "Nearest to where: ginger, extremely, recitations, phonetics, highlands, increase, killing, ingest,\n",
      "Nearest to when: occupied, respective, project, regency, concern, heartland, theology, psyche,\n",
      "Nearest to for: greece, media, mountjoy, romanticized, neutralist, linguist, parts, discussion,\n",
      "Nearest to these: to, never, interchangeably, mitra, ghraib, cowboy, sons, actress,\n",
      "Nearest to b: alloted, eugenics, renowned, mendelevium, swirled, declining, salvador, cabo,\n",
      "Nearest to or: bridges, personified, violent, gait, pompeius, herself, oxidised, agan,\n",
      "Nearest to some: whether, brandenburg, decades, rb, olissipo, flunitrazepam, backgrounds, gerais,\n",
      "Nearest to would: totalitarianism, navarro, forwarded, screenplays, themselves, zooming, max, term,\n",
      "Nearest to quite: union, fibre, boole, recording, menace, message, clementine, denmark,\n",
      "Nearest to governor: interrogators, haeckel, coliseum, elevation, erudition, eurosceptic, anadolu, czechoslovakian,\n",
      "Nearest to animals: diced, stringbean, farsi, testimonies, intellectual, crux, excited, flywheel,\n",
      "Nearest to mathematics: earlier, jemima, schwarzenberg, compensate, chieftains, sergeant, being, adonijah,\n",
      "Nearest to engine: renders, oceanographic, cerium, yzerman, rossellini, brion, alphege, pavements,\n",
      "Nearest to defense: clutch, lowly, legitimacy, bled, presidency, guebuza, molitor, interchangeably,\n",
      "Nearest to mainly: hildesheim, ambassador, spitting, impressionistic, dropout, flair, type, regent,\n",
      "Nearest to units: withdrew, jl, rankings, athabaskan, still, aus, investigate, bailed,\n",
      "Epoch 1/10 Iteration: 1100 Avg. Training loss: 5.5448 0.3811 sec/batch\n",
      "Epoch 1/10 Iteration: 1200 Avg. Training loss: 5.4402 0.3754 sec/batch\n",
      "Epoch 1/10 Iteration: 1300 Avg. Training loss: 5.3280 0.3850 sec/batch\n",
      "Epoch 1/10 Iteration: 1400 Avg. Training loss: 5.2118 0.3871 sec/batch\n",
      "Epoch 1/10 Iteration: 1500 Avg. Training loss: 5.1703 0.3880 sec/batch\n",
      "Epoch 1/10 Iteration: 1600 Avg. Training loss: 5.1069 0.3788 sec/batch\n",
      "Epoch 1/10 Iteration: 1700 Avg. Training loss: 5.0879 0.3780 sec/batch\n",
      "Epoch 1/10 Iteration: 1800 Avg. Training loss: 4.9454 0.3789 sec/batch\n",
      "Epoch 1/10 Iteration: 1900 Avg. Training loss: 5.0162 0.3768 sec/batch\n",
      "Epoch 1/10 Iteration: 2000 Avg. Training loss: 4.9453 0.3767 sec/batch\n",
      "Nearest to where: ginger, extremely, phonetics, highlands, owner, largely, decrease, recitations,\n",
      "Nearest to when: respective, occupied, heartland, concern, project, theology, regency, focus,\n",
      "Nearest to for: greece, media, wto, grant, questions, measures, romanticized, council,\n",
      "Nearest to these: to, interchangeably, indeed, seem, cowboy, doomed, wildly, sons,\n",
      "Nearest to b: declining, alloted, renowned, salvador, eugenics, lia, reunification, struggle,\n",
      "Nearest to or: bridges, personified, gait, herself, pompeius, violent, reality, northwestern,\n",
      "Nearest to some: decades, symmetric, whether, waiting, brandenburg, disambiguation, backgrounds, olissipo,\n",
      "Nearest to would: totalitarianism, navarro, screenplays, themselves, term, forwarded, address, max,\n",
      "Nearest to quite: union, solid, criticism, fibre, recording, salvation, hinterland, denmark,\n",
      "Nearest to governor: elevation, coliseum, interrogators, dean, haeckel, periodical, eurosceptic, czechoslovakian,\n",
      "Nearest to animals: diced, stringbean, intellectual, farsi, excited, testimonies, crux, situation,\n",
      "Nearest to mathematics: earlier, jemima, compensate, being, chieftains, legislative, schwarzenberg, adonijah,\n",
      "Nearest to engine: renders, oceanographic, cerium, disappearance, binding, african, yzerman, quickly,\n",
      "Nearest to defense: clutch, legitimacy, presidency, lowly, interchangeably, wanting, bled, lawyer,\n",
      "Nearest to mainly: ambassador, regent, rules, hildesheim, spitting, tongue, profitability, impressionistic,\n",
      "Nearest to units: rankings, withdrew, establish, jl, still, accession, jurisdiction, aus,\n",
      "Epoch 1/10 Iteration: 2100 Avg. Training loss: 4.9532 0.3950 sec/batch\n",
      "Epoch 1/10 Iteration: 2200 Avg. Training loss: 4.9367 0.3840 sec/batch\n",
      "Epoch 1/10 Iteration: 2300 Avg. Training loss: 4.8878 0.3893 sec/batch\n",
      "Epoch 1/10 Iteration: 2400 Avg. Training loss: 4.8740 0.3899 sec/batch\n",
      "Epoch 1/10 Iteration: 2500 Avg. Training loss: 4.8442 0.3857 sec/batch\n",
      "Epoch 1/10 Iteration: 2600 Avg. Training loss: 4.8558 0.3787 sec/batch\n",
      "Epoch 1/10 Iteration: 2700 Avg. Training loss: 4.8222 0.3853 sec/batch\n",
      "Epoch 1/10 Iteration: 2800 Avg. Training loss: 4.8477 0.3803 sec/batch\n",
      "Epoch 1/10 Iteration: 2900 Avg. Training loss: 4.8157 0.3806 sec/batch\n",
      "Epoch 1/10 Iteration: 3000 Avg. Training loss: 4.8183 0.3837 sec/batch\n",
      "Nearest to where: ginger, phonetics, owner, extremely, highlands, recitations, cellos, detector,\n",
      "Nearest to when: occupied, respective, heartland, regency, concern, theology, publius, bpp,\n",
      "Nearest to for: greece, wto, grant, questions, media, integrates, romanticized, measures,\n",
      "Nearest to these: to, interchangeably, ip, seem, doomed, indeed, never, cowboy,\n",
      "Nearest to b: eugenics, declining, renowned, skeptic, lia, salvador, swirled, alloted,\n",
      "Nearest to or: personified, bridges, gait, herself, pompeius, reality, rockabilly, agan,\n",
      "Nearest to some: whether, decades, symmetric, waiting, divination, penalties, flunitrazepam, olissipo,\n",
      "Nearest to would: totalitarianism, screenplays, themselves, navarro, forwarded, term, zooming, orthogonal,\n",
      "Nearest to quite: salvation, fibre, union, criticism, hinterland, uncommon, solid, boole,\n",
      "Nearest to governor: interrogators, coliseum, periodical, dean, elevation, haeckel, pious, anadolu,\n",
      "Nearest to animals: diced, excited, stringbean, testimonies, farsi, flywheel, intellectual, human,\n",
      "Nearest to mathematics: earlier, jemima, compensate, chieftains, being, adonijah, sergeant, schwarzenberg,\n",
      "Nearest to engine: renders, oceanographic, disappearance, cerium, arranged, yzerman, binding, vulgate,\n",
      "Nearest to defense: clutch, presidency, legitimacy, lowly, lawyer, bled, wanting, interchangeably,\n",
      "Nearest to mainly: spitting, flair, ambassador, regent, impressionistic, hildesheim, profitability, rules,\n",
      "Nearest to units: rankings, jl, athabaskan, jurisdiction, withdrew, establish, cipher, ok,\n",
      "Epoch 1/10 Iteration: 3100 Avg. Training loss: 4.7843 0.3868 sec/batch\n",
      "Epoch 1/10 Iteration: 3200 Avg. Training loss: 4.7669 0.3775 sec/batch\n",
      "Epoch 1/10 Iteration: 3300 Avg. Training loss: 4.7246 0.3753 sec/batch\n",
      "Epoch 1/10 Iteration: 3400 Avg. Training loss: 4.7694 0.3856 sec/batch\n",
      "Epoch 1/10 Iteration: 3500 Avg. Training loss: 4.7493 0.3770 sec/batch\n",
      "Epoch 1/10 Iteration: 3600 Avg. Training loss: 4.6940 0.3770 sec/batch\n",
      "Epoch 1/10 Iteration: 3700 Avg. Training loss: 4.7125 0.3762 sec/batch\n",
      "Epoch 1/10 Iteration: 3800 Avg. Training loss: 4.7383 0.3791 sec/batch\n",
      "Epoch 1/10 Iteration: 3900 Avg. Training loss: 4.6494 0.3824 sec/batch\n",
      "Epoch 1/10 Iteration: 4000 Avg. Training loss: 4.6964 0.3882 sec/batch\n",
      "Nearest to where: ginger, phonetics, dirac, extremely, owner, cellos, highlands, recitations,\n",
      "Nearest to when: occupied, respective, heartland, regency, cages, faerie, fruitfulness, bpp,\n",
      "Nearest to for: greece, questions, wto, media, governmental, measures, integrates, romanticized,\n",
      "Nearest to these: to, interchangeably, indeed, doomed, seem, never, theories, ip,\n",
      "Nearest to b: eugenics, renowned, skeptic, salvador, declining, charlotte, lia, swirled,\n",
      "Nearest to or: personified, gait, characteristic, types, bridges, reality, recalcitrant, herself,\n",
      "Nearest to some: whether, decades, symmetric, flunitrazepam, olissipo, divination, penalties, waiting,\n",
      "Nearest to would: screenplays, totalitarianism, themselves, term, zooming, forwarded, navarro, magnificent,\n",
      "Nearest to quite: fibre, salvation, hinterland, union, criticism, uncommon, antimicrobial, solid,\n",
      "Nearest to governor: periodical, dean, interrogators, coliseum, eurosceptic, united, bjorn, pious,\n",
      "Nearest to animals: diced, stringbean, excited, testimonies, farsi, flywheel, human, chennai,\n",
      "Nearest to mathematics: compensate, jemima, earlier, chieftains, subtract, adonijah, schwarzenberg, sergeant,\n",
      "Nearest to engine: renders, oceanographic, disappearance, binding, arranged, yzerman, cerium, vulgate,\n",
      "Nearest to defense: clutch, presidency, lowly, legitimacy, lawyer, paulsen, wanting, bled,\n",
      "Nearest to mainly: spitting, hadley, impressionistic, dropout, flair, regent, profitability, hildesheim,\n",
      "Nearest to units: jl, athabaskan, rankings, slovenes, aus, cipher, still, unit,\n",
      "Epoch 1/10 Iteration: 4100 Avg. Training loss: 4.6611 0.3825 sec/batch\n",
      "Epoch 1/10 Iteration: 4200 Avg. Training loss: 4.6254 0.3754 sec/batch\n",
      "Epoch 1/10 Iteration: 4300 Avg. Training loss: 4.6646 0.3825 sec/batch\n",
      "Epoch 1/10 Iteration: 4400 Avg. Training loss: 4.6632 0.3765 sec/batch\n",
      "Epoch 1/10 Iteration: 4500 Avg. Training loss: 4.6565 0.3785 sec/batch\n",
      "Epoch 1/10 Iteration: 4600 Avg. Training loss: 4.6138 0.3815 sec/batch\n",
      "Epoch 1/10 Iteration: 4700 Avg. Training loss: 4.6141 0.3804 sec/batch\n",
      "Epoch 1/10 Iteration: 4800 Avg. Training loss: 4.6397 0.3775 sec/batch\n",
      "Epoch 1/10 Iteration: 4900 Avg. Training loss: 4.6359 0.3817 sec/batch\n",
      "Epoch 1/10 Iteration: 5000 Avg. Training loss: 4.6184 0.3776 sec/batch\n",
      "Nearest to where: ginger, phonetics, dirac, owner, recitations, cellos, highlands, lm,\n",
      "Nearest to when: occupied, respective, cages, heartland, announces, regency, from, apulia,\n",
      "Nearest to for: greece, media, governmental, wto, mountjoy, neutralist, questions, grant,\n",
      "Nearest to these: to, interchangeably, seem, indeed, doomed, theories, slowness, permission,\n",
      "Nearest to b: eugenics, renowned, charlotte, skeptic, swirled, salvador, declining, jem,\n",
      "Nearest to or: gait, personified, characteristic, bridges, rockabilly, reality, types, oxidised,\n",
      "Nearest to some: whether, decades, symmetric, olissipo, flunitrazepam, divination, refuse, penalties,\n",
      "Nearest to would: totalitarianism, screenplays, themselves, forwarded, zooming, term, navarro, misapplication,\n",
      "Nearest to quite: fibre, salvation, hinterland, antimicrobial, criticism, uncommon, solid, organic,\n",
      "Nearest to governor: interrogators, united, dean, periodical, eurosceptic, lear, resident, bjorn,\n",
      "Nearest to animals: diced, stringbean, excited, farsi, human, flywheel, testimonies, glow,\n",
      "Nearest to mathematics: adonijah, jemima, compensate, wickedness, schwarzenberg, theory, earlier, subtract,\n",
      "Nearest to engine: renders, oceanographic, binding, arranged, concentrations, disappearance, vulgate, cerium,\n",
      "Nearest to defense: clutch, presidency, lowly, legitimacy, lawyer, paulsen, army, bled,\n",
      "Nearest to mainly: hadley, dropout, impressionistic, cadet, spitting, flair, alice, clinton,\n",
      "Nearest to units: athabaskan, rankings, jl, slovenes, unit, ok, bailed, cassettes,\n",
      "Epoch 1/10 Iteration: 5100 Avg. Training loss: 4.5541 0.3798 sec/batch\n",
      "Epoch 1/10 Iteration: 5200 Avg. Training loss: 4.5745 0.3792 sec/batch\n",
      "Epoch 1/10 Iteration: 5300 Avg. Training loss: 4.5268 0.3768 sec/batch\n",
      "Epoch 1/10 Iteration: 5400 Avg. Training loss: 4.5868 0.3791 sec/batch\n",
      "Epoch 1/10 Iteration: 5500 Avg. Training loss: 4.5341 0.3857 sec/batch\n",
      "Epoch 1/10 Iteration: 5600 Avg. Training loss: 4.5249 0.3874 sec/batch\n",
      "Epoch 1/10 Iteration: 5700 Avg. Training loss: 4.5795 0.3816 sec/batch\n",
      "Epoch 1/10 Iteration: 5800 Avg. Training loss: 4.5821 0.3814 sec/batch\n",
      "Epoch 1/10 Iteration: 5900 Avg. Training loss: 4.6203 0.3786 sec/batch\n",
      "Epoch 1/10 Iteration: 6000 Avg. Training loss: 4.5980 0.3792 sec/batch\n",
      "Nearest to where: ginger, dirac, lm, phonetics, recitations, owner, cellos, alder,\n",
      "Nearest to when: occupied, respective, heartland, cages, faerie, after, publius, apulia,\n",
      "Nearest to for: media, greece, governmental, neutralist, wto, ztt, mountjoy, measures,\n",
      "Nearest to these: interchangeably, to, regulators, indeed, seem, respectable, slowness, doomed,\n",
      "Nearest to b: charlotte, eugenics, skeptic, chemist, salvador, renowned, jem, swirled,\n",
      "Nearest to or: gait, characteristic, personified, bridges, expelling, types, rockabilly, modal,\n",
      "Nearest to some: decades, whether, flunitrazepam, olissipo, symmetric, backgrounds, miscellany, refuse,\n",
      "Nearest to would: screenplays, themselves, totalitarianism, saying, zooming, forwarded, term, misapplication,\n",
      "Nearest to quite: fibre, hinterland, salvation, antimicrobial, uncommon, mss, rhinoceros, lute,\n",
      "Nearest to governor: interrogators, dean, united, lear, eurosceptic, resident, bjorn, schlieffen,\n",
      "Nearest to animals: stringbean, diced, farsi, flywheel, excited, human, testimonies, fouquet,\n",
      "Nearest to mathematics: theory, adonijah, wickedness, jemima, compensate, schwarzenberg, properties, sergeant,\n",
      "Nearest to engine: renders, oceanographic, arranged, concentrations, demian, disappearance, binding, krautrock,\n",
      "Nearest to defense: clutch, presidency, legitimacy, lawyer, paulsen, army, lowly, leszek,\n",
      "Nearest to mainly: kyrgyz, hadley, dropout, spitting, impressionistic, narses, flair, cadet,\n",
      "Nearest to units: unit, athabaskan, slovenes, jl, rankings, jurisdiction, bermudez, bailed,\n",
      "Epoch 1/10 Iteration: 6100 Avg. Training loss: 4.5045 0.3814 sec/batch\n",
      "Epoch 1/10 Iteration: 6200 Avg. Training loss: 4.4551 0.3876 sec/batch\n",
      "Epoch 1/10 Iteration: 6300 Avg. Training loss: 4.5545 0.3842 sec/batch\n",
      "Epoch 1/10 Iteration: 6400 Avg. Training loss: 4.5318 0.3778 sec/batch\n",
      "Epoch 1/10 Iteration: 6500 Avg. Training loss: 4.5368 0.3819 sec/batch\n",
      "Epoch 1/10 Iteration: 6600 Avg. Training loss: 4.4246 0.3755 sec/batch\n",
      "Epoch 1/10 Iteration: 6700 Avg. Training loss: 4.4533 0.3773 sec/batch\n",
      "Epoch 1/10 Iteration: 6800 Avg. Training loss: 4.4704 0.3804 sec/batch\n",
      "Epoch 1/10 Iteration: 6900 Avg. Training loss: 4.5173 0.3770 sec/batch\n",
      "Epoch 1/10 Iteration: 7000 Avg. Training loss: 4.4750 0.3866 sec/batch\n",
      "Nearest to where: ginger, dirac, lm, phonetics, kilns, cellos, positing, named,\n",
      "Nearest to when: occupied, cages, respective, faerie, heartland, from, arjuna, nihilo,\n",
      "Nearest to for: media, neutralist, governmental, its, greece, ztt, measures, integrates,\n",
      "Nearest to these: interchangeably, regulators, to, seem, doomed, reactants, tractable, slowness,\n",
      "Nearest to b: charlotte, eugenics, skeptic, chemist, six, jem, salvador, swirled,\n",
      "Nearest to or: gait, personified, characteristic, types, expelling, agan, brahman, modal,\n",
      "Nearest to some: whether, decades, symmetric, divination, flunitrazepam, penalties, olissipo, miscellany,\n",
      "Nearest to would: totalitarianism, themselves, screenplays, saying, forwarded, misapplication, zooming, orthogonal,\n",
      "Nearest to quite: fibre, hinterland, uncommon, rhinoceros, antimicrobial, salvation, lute, mss,\n",
      "Nearest to governor: interrogators, dean, lear, resident, schlieffen, eurosceptic, united, bjorn,\n",
      "Nearest to animals: stringbean, diced, farsi, human, mammals, flywheel, excited, glow,\n",
      "Nearest to mathematics: theory, adonijah, wickedness, properties, schwarzenberg, jemima, logic, formulaic,\n",
      "Nearest to engine: renders, oceanographic, arranged, concentrations, flammable, demian, fib, layers,\n",
      "Nearest to defense: legitimacy, army, clutch, lawyer, presidency, paulsen, guebuza, departments,\n",
      "Nearest to mainly: spitting, hadley, dropout, kyrgyz, narses, impressionistic, flair, prostration,\n",
      "Nearest to units: unit, athabaskan, jl, evaporator, bermudez, slovenes, size, bailed,\n",
      "Epoch 1/10 Iteration: 7100 Avg. Training loss: 4.5040 0.3913 sec/batch\n",
      "Epoch 1/10 Iteration: 7200 Avg. Training loss: 4.5228 0.3881 sec/batch\n",
      "Epoch 2/10 Iteration: 7300 Avg. Training loss: 4.4778 0.2528 sec/batch\n",
      "Epoch 2/10 Iteration: 7400 Avg. Training loss: 4.4211 0.3826 sec/batch\n",
      "Epoch 2/10 Iteration: 7500 Avg. Training loss: 4.3932 0.3855 sec/batch\n",
      "Epoch 2/10 Iteration: 7600 Avg. Training loss: 4.4500 0.3851 sec/batch\n",
      "Epoch 2/10 Iteration: 7700 Avg. Training loss: 4.3749 0.3866 sec/batch\n",
      "Epoch 2/10 Iteration: 7800 Avg. Training loss: 4.3702 0.3851 sec/batch\n"
     ]
    },
    {
     "name": "stdout",
     "output_type": "stream",
     "text": [
      "Epoch 2/10 Iteration: 7900 Avg. Training loss: 4.4013 0.3826 sec/batch\n",
      "Epoch 2/10 Iteration: 8000 Avg. Training loss: 4.3961 0.3856 sec/batch\n",
      "Nearest to where: ginger, lm, named, dirac, phonetics, cellos, recitations, alder,\n",
      "Nearest to when: occupied, cages, respective, arjuna, faerie, heartland, after, from,\n",
      "Nearest to for: greece, integrates, wiktionary, neutralist, mountjoy, media, governmental, dzie,\n",
      "Nearest to these: interchangeably, regulators, slowness, tractable, to, doomed, himalayan, seem,\n",
      "Nearest to b: charlotte, chemist, inventor, skeptic, salvador, jem, jesuit, eugenics,\n",
      "Nearest to or: gait, personified, urdu, types, characteristic, agan, brahman, expelling,\n",
      "Nearest to some: whether, decades, symmetric, flunitrazepam, backgrounds, divination, olissipo, undeniably,\n",
      "Nearest to would: totalitarianism, themselves, saying, forwarded, screenplays, zooming, orthogonal, misapplication,\n",
      "Nearest to quite: fibre, hinterland, rhinoceros, antimicrobial, uncommon, lute, mss, boardwalk,\n",
      "Nearest to governor: interrogators, dean, lear, resident, schlieffen, durrani, eurosceptic, representatives,\n",
      "Nearest to animals: stringbean, diced, farsi, human, mammals, flywheel, excited, feces,\n",
      "Nearest to mathematics: theory, wickedness, adonijah, properties, schwarzenberg, jemima, subtract, formulaic,\n",
      "Nearest to engine: renders, oceanographic, arranged, demian, fib, concentrations, rows, dynamics,\n",
      "Nearest to defense: clutch, army, lawyer, legitimacy, beholden, guebuza, gunmen, paulsen,\n",
      "Nearest to mainly: narses, dropout, flair, kyrgyz, hadley, impressionistic, spitting, prostration,\n",
      "Nearest to units: unit, athabaskan, jl, slovenes, size, bailed, bermudez, evaporator,\n",
      "Epoch 2/10 Iteration: 8100 Avg. Training loss: 4.3802 0.3950 sec/batch\n",
      "Epoch 2/10 Iteration: 8200 Avg. Training loss: 4.3661 0.3970 sec/batch\n",
      "Epoch 2/10 Iteration: 8300 Avg. Training loss: 4.2929 0.3917 sec/batch\n",
      "Epoch 2/10 Iteration: 8400 Avg. Training loss: 4.4060 0.3933 sec/batch\n",
      "Epoch 2/10 Iteration: 8500 Avg. Training loss: 4.3985 0.3994 sec/batch\n"
     ]
    },
    {
     "ename": "KeyboardInterrupt",
     "evalue": "",
     "output_type": "error",
     "traceback": [
      "\u001b[1;31m---------------------------------------------------------------------------\u001b[0m",
      "\u001b[1;31mKeyboardInterrupt\u001b[0m                         Traceback (most recent call last)",
      "\u001b[1;32m<ipython-input-58-b1d3869cd0d6>\u001b[0m in \u001b[0;36m<module>\u001b[1;34m()\u001b[0m\n\u001b[0;32m     18\u001b[0m             feed = {inputs: x,\n\u001b[0;32m     19\u001b[0m                     labels: np.array(y)[:, None]}\n\u001b[1;32m---> 20\u001b[1;33m             \u001b[0mtrain_loss\u001b[0m\u001b[1;33m,\u001b[0m \u001b[0m_\u001b[0m \u001b[1;33m=\u001b[0m \u001b[0msess\u001b[0m\u001b[1;33m.\u001b[0m\u001b[0mrun\u001b[0m\u001b[1;33m(\u001b[0m\u001b[1;33m[\u001b[0m\u001b[0mcost\u001b[0m\u001b[1;33m,\u001b[0m \u001b[0moptimizer\u001b[0m\u001b[1;33m]\u001b[0m\u001b[1;33m,\u001b[0m \u001b[0mfeed_dict\u001b[0m\u001b[1;33m=\u001b[0m\u001b[0mfeed\u001b[0m\u001b[1;33m)\u001b[0m\u001b[1;33m\u001b[0m\u001b[0m\n\u001b[0m\u001b[0;32m     21\u001b[0m \u001b[1;33m\u001b[0m\u001b[0m\n\u001b[0;32m     22\u001b[0m             \u001b[0mloss\u001b[0m \u001b[1;33m+=\u001b[0m \u001b[0mtrain_loss\u001b[0m\u001b[1;33m\u001b[0m\u001b[0m\n",
      "\u001b[1;32m~\\Anaconda3\\envs\\rnn-training\\lib\\site-packages\\tensorflow\\python\\client\\session.py\u001b[0m in \u001b[0;36mrun\u001b[1;34m(self, fetches, feed_dict, options, run_metadata)\u001b[0m\n\u001b[0;32m    776\u001b[0m     \u001b[1;32mtry\u001b[0m\u001b[1;33m:\u001b[0m\u001b[1;33m\u001b[0m\u001b[0m\n\u001b[0;32m    777\u001b[0m       result = self._run(None, fetches, feed_dict, options_ptr,\n\u001b[1;32m--> 778\u001b[1;33m                          run_metadata_ptr)\n\u001b[0m\u001b[0;32m    779\u001b[0m       \u001b[1;32mif\u001b[0m \u001b[0mrun_metadata\u001b[0m\u001b[1;33m:\u001b[0m\u001b[1;33m\u001b[0m\u001b[0m\n\u001b[0;32m    780\u001b[0m         \u001b[0mproto_data\u001b[0m \u001b[1;33m=\u001b[0m \u001b[0mtf_session\u001b[0m\u001b[1;33m.\u001b[0m\u001b[0mTF_GetBuffer\u001b[0m\u001b[1;33m(\u001b[0m\u001b[0mrun_metadata_ptr\u001b[0m\u001b[1;33m)\u001b[0m\u001b[1;33m\u001b[0m\u001b[0m\n",
      "\u001b[1;32m~\\Anaconda3\\envs\\rnn-training\\lib\\site-packages\\tensorflow\\python\\client\\session.py\u001b[0m in \u001b[0;36m_run\u001b[1;34m(self, handle, fetches, feed_dict, options, run_metadata)\u001b[0m\n\u001b[0;32m    980\u001b[0m     \u001b[1;32mif\u001b[0m \u001b[0mfinal_fetches\u001b[0m \u001b[1;32mor\u001b[0m \u001b[0mfinal_targets\u001b[0m\u001b[1;33m:\u001b[0m\u001b[1;33m\u001b[0m\u001b[0m\n\u001b[0;32m    981\u001b[0m       results = self._do_run(handle, final_targets, final_fetches,\n\u001b[1;32m--> 982\u001b[1;33m                              feed_dict_string, options, run_metadata)\n\u001b[0m\u001b[0;32m    983\u001b[0m     \u001b[1;32melse\u001b[0m\u001b[1;33m:\u001b[0m\u001b[1;33m\u001b[0m\u001b[0m\n\u001b[0;32m    984\u001b[0m       \u001b[0mresults\u001b[0m \u001b[1;33m=\u001b[0m \u001b[1;33m[\u001b[0m\u001b[1;33m]\u001b[0m\u001b[1;33m\u001b[0m\u001b[0m\n",
      "\u001b[1;32m~\\Anaconda3\\envs\\rnn-training\\lib\\site-packages\\tensorflow\\python\\client\\session.py\u001b[0m in \u001b[0;36m_do_run\u001b[1;34m(self, handle, target_list, fetch_list, feed_dict, options, run_metadata)\u001b[0m\n\u001b[0;32m   1030\u001b[0m     \u001b[1;32mif\u001b[0m \u001b[0mhandle\u001b[0m \u001b[1;32mis\u001b[0m \u001b[1;32mNone\u001b[0m\u001b[1;33m:\u001b[0m\u001b[1;33m\u001b[0m\u001b[0m\n\u001b[0;32m   1031\u001b[0m       return self._do_call(_run_fn, self._session, feed_dict, fetch_list,\n\u001b[1;32m-> 1032\u001b[1;33m                            target_list, options, run_metadata)\n\u001b[0m\u001b[0;32m   1033\u001b[0m     \u001b[1;32melse\u001b[0m\u001b[1;33m:\u001b[0m\u001b[1;33m\u001b[0m\u001b[0m\n\u001b[0;32m   1034\u001b[0m       return self._do_call(_prun_fn, self._session, handle, feed_dict,\n",
      "\u001b[1;32m~\\Anaconda3\\envs\\rnn-training\\lib\\site-packages\\tensorflow\\python\\client\\session.py\u001b[0m in \u001b[0;36m_do_call\u001b[1;34m(self, fn, *args)\u001b[0m\n\u001b[0;32m   1037\u001b[0m   \u001b[1;32mdef\u001b[0m \u001b[0m_do_call\u001b[0m\u001b[1;33m(\u001b[0m\u001b[0mself\u001b[0m\u001b[1;33m,\u001b[0m \u001b[0mfn\u001b[0m\u001b[1;33m,\u001b[0m \u001b[1;33m*\u001b[0m\u001b[0margs\u001b[0m\u001b[1;33m)\u001b[0m\u001b[1;33m:\u001b[0m\u001b[1;33m\u001b[0m\u001b[0m\n\u001b[0;32m   1038\u001b[0m     \u001b[1;32mtry\u001b[0m\u001b[1;33m:\u001b[0m\u001b[1;33m\u001b[0m\u001b[0m\n\u001b[1;32m-> 1039\u001b[1;33m       \u001b[1;32mreturn\u001b[0m \u001b[0mfn\u001b[0m\u001b[1;33m(\u001b[0m\u001b[1;33m*\u001b[0m\u001b[0margs\u001b[0m\u001b[1;33m)\u001b[0m\u001b[1;33m\u001b[0m\u001b[0m\n\u001b[0m\u001b[0;32m   1040\u001b[0m     \u001b[1;32mexcept\u001b[0m \u001b[0merrors\u001b[0m\u001b[1;33m.\u001b[0m\u001b[0mOpError\u001b[0m \u001b[1;32mas\u001b[0m \u001b[0me\u001b[0m\u001b[1;33m:\u001b[0m\u001b[1;33m\u001b[0m\u001b[0m\n\u001b[0;32m   1041\u001b[0m       \u001b[0mmessage\u001b[0m \u001b[1;33m=\u001b[0m \u001b[0mcompat\u001b[0m\u001b[1;33m.\u001b[0m\u001b[0mas_text\u001b[0m\u001b[1;33m(\u001b[0m\u001b[0me\u001b[0m\u001b[1;33m.\u001b[0m\u001b[0mmessage\u001b[0m\u001b[1;33m)\u001b[0m\u001b[1;33m\u001b[0m\u001b[0m\n",
      "\u001b[1;32m~\\Anaconda3\\envs\\rnn-training\\lib\\site-packages\\tensorflow\\python\\client\\session.py\u001b[0m in \u001b[0;36m_run_fn\u001b[1;34m(session, feed_dict, fetch_list, target_list, options, run_metadata)\u001b[0m\n\u001b[0;32m   1019\u001b[0m         return tf_session.TF_Run(session, options,\n\u001b[0;32m   1020\u001b[0m                                  \u001b[0mfeed_dict\u001b[0m\u001b[1;33m,\u001b[0m \u001b[0mfetch_list\u001b[0m\u001b[1;33m,\u001b[0m \u001b[0mtarget_list\u001b[0m\u001b[1;33m,\u001b[0m\u001b[1;33m\u001b[0m\u001b[0m\n\u001b[1;32m-> 1021\u001b[1;33m                                  status, run_metadata)\n\u001b[0m\u001b[0;32m   1022\u001b[0m \u001b[1;33m\u001b[0m\u001b[0m\n\u001b[0;32m   1023\u001b[0m     \u001b[1;32mdef\u001b[0m \u001b[0m_prun_fn\u001b[0m\u001b[1;33m(\u001b[0m\u001b[0msession\u001b[0m\u001b[1;33m,\u001b[0m \u001b[0mhandle\u001b[0m\u001b[1;33m,\u001b[0m \u001b[0mfeed_dict\u001b[0m\u001b[1;33m,\u001b[0m \u001b[0mfetch_list\u001b[0m\u001b[1;33m)\u001b[0m\u001b[1;33m:\u001b[0m\u001b[1;33m\u001b[0m\u001b[0m\n",
      "\u001b[1;31mKeyboardInterrupt\u001b[0m: "
     ]
    }
   ],
   "source": [
    "epochs = 10\n",
    "batch_size = 1000\n",
    "window_size = 10\n",
    "\n",
    "with train_graph.as_default():\n",
    "    saver = tf.train.Saver()\n",
    "\n",
    "with tf.Session(graph=train_graph) as sess:\n",
    "    iteration = 1\n",
    "    loss = 0\n",
    "    sess.run(tf.global_variables_initializer())\n",
    "\n",
    "    for e in range(1, epochs+1):\n",
    "        batches = get_batches(train_words, batch_size, window_size)\n",
    "        start = time.time()\n",
    "        for x, y in batches:\n",
    "            \n",
    "            feed = {inputs: x,\n",
    "                    labels: np.array(y)[:, None]}\n",
    "            train_loss, _ = sess.run([cost, optimizer], feed_dict=feed)\n",
    "            \n",
    "            loss += train_loss\n",
    "            \n",
    "            if iteration % 100 == 0: \n",
    "                end = time.time()\n",
    "                print(\"Epoch {}/{}\".format(e, epochs),\n",
    "                      \"Iteration: {}\".format(iteration),\n",
    "                      \"Avg. Training loss: {:.4f}\".format(loss/100),\n",
    "                      \"{:.4f} sec/batch\".format((end-start)/100))\n",
    "                loss = 0\n",
    "                start = time.time()\n",
    "            \n",
    "            if iteration % 1000 == 0:\n",
    "                ## From Thushan Ganegedara's implementation\n",
    "                # note that this is expensive (~20% slowdown if computed every 500 steps)\n",
    "                sim = similarity.eval()\n",
    "                for i in range(valid_size):\n",
    "                    valid_word = int_to_vocab[valid_examples[i]]\n",
    "                    top_k = 8 # number of nearest neighbors\n",
    "                    nearest = (-sim[i, :]).argsort()[1:top_k+1]\n",
    "                    log = 'Nearest to %s:' % valid_word\n",
    "                    for k in range(top_k):\n",
    "                        close_word = int_to_vocab[nearest[k]]\n",
    "                        log = '%s %s,' % (log, close_word)\n",
    "                    print(log)\n",
    "            \n",
    "            iteration += 1\n",
    "    save_path = saver.save(sess, \"checkpoints/text8.ckpt\")\n",
    "    embed_mat = sess.run(normalized_embedding)"
   ]
  },
  {
   "cell_type": "markdown",
   "metadata": {},
   "source": [
    "Restore the trained network if you need to:"
   ]
  },
  {
   "cell_type": "code",
   "execution_count": null,
   "metadata": {
    "collapsed": true
   },
   "outputs": [],
   "source": [
    "with train_graph.as_default():\n",
    "    saver = tf.train.Saver()\n",
    "\n",
    "with tf.Session(graph=train_graph) as sess:\n",
    "    saver.restore(sess, tf.train.latest_checkpoint('checkpoints'))\n",
    "    embed_mat = sess.run(embedding)"
   ]
  },
  {
   "cell_type": "markdown",
   "metadata": {},
   "source": [
    "## Visualizing the word vectors\n",
    "\n",
    "Below we'll use T-SNE to visualize how our high-dimensional word vectors cluster together. T-SNE is used to project these vectors into two dimensions while preserving local stucture. Check out [this post from Christopher Olah](http://colah.github.io/posts/2014-10-Visualizing-MNIST/) to learn more about T-SNE and other ways to visualize high-dimensional data."
   ]
  },
  {
   "cell_type": "code",
   "execution_count": null,
   "metadata": {
    "collapsed": true
   },
   "outputs": [],
   "source": [
    "%matplotlib inline\n",
    "%config InlineBackend.figure_format = 'retina'\n",
    "\n",
    "import matplotlib.pyplot as plt\n",
    "from sklearn.manifold import TSNE"
   ]
  },
  {
   "cell_type": "code",
   "execution_count": null,
   "metadata": {
    "collapsed": true
   },
   "outputs": [],
   "source": [
    "viz_words = 500\n",
    "tsne = TSNE()\n",
    "embed_tsne = tsne.fit_transform(embed_mat[:viz_words, :])"
   ]
  },
  {
   "cell_type": "code",
   "execution_count": null,
   "metadata": {
    "collapsed": true
   },
   "outputs": [],
   "source": [
    "fig, ax = plt.subplots(figsize=(14, 14))\n",
    "for idx in range(viz_words):\n",
    "    plt.scatter(*embed_tsne[idx, :], color='steelblue')\n",
    "    plt.annotate(int_to_vocab[idx], (embed_tsne[idx, 0], embed_tsne[idx, 1]), alpha=0.7)"
   ]
  }
 ],
 "metadata": {
  "kernelspec": {
   "display_name": "Python 3",
   "language": "python",
   "name": "python3"
  },
  "language_info": {
   "codemirror_mode": {
    "name": "ipython",
    "version": 3
   },
   "file_extension": ".py",
   "mimetype": "text/x-python",
   "name": "python",
   "nbconvert_exporter": "python",
   "pygments_lexer": "ipython3",
   "version": "3.6.1"
  }
 },
 "nbformat": 4,
 "nbformat_minor": 2
}
